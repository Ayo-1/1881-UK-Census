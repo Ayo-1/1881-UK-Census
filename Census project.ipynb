{
 "cells": [
  {
   "cell_type": "markdown",
   "id": "02d4b4ac",
   "metadata": {},
   "source": [
    "# MOCK CENSUS PROJECT CODE"
   ]
  },
  {
   "cell_type": "code",
   "execution_count": 1,
   "id": "0f070182",
   "metadata": {},
   "outputs": [],
   "source": [
    "import pandas as pd\n",
    "import numpy as np\n",
    "import seaborn as sns\n",
    "import sweetviz as sv"
   ]
  },
  {
   "cell_type": "markdown",
   "id": "07045dd8",
   "metadata": {},
   "source": [
    "###### Importing the Dataset"
   ]
  },
  {
   "cell_type": "code",
   "execution_count": 2,
   "id": "87ede73b",
   "metadata": {},
   "outputs": [],
   "source": [
    "df=pd.read_csv(r'c:\\users\\hp\\Downloads\\census_06.csv')"
   ]
  },
  {
   "cell_type": "code",
   "execution_count": 3,
   "id": "81c914b4",
   "metadata": {
    "scrolled": true
   },
   "outputs": [
    {
     "data": {
      "text/html": [
       "<div>\n",
       "<style scoped>\n",
       "    .dataframe tbody tr th:only-of-type {\n",
       "        vertical-align: middle;\n",
       "    }\n",
       "\n",
       "    .dataframe tbody tr th {\n",
       "        vertical-align: top;\n",
       "    }\n",
       "\n",
       "    .dataframe thead th {\n",
       "        text-align: right;\n",
       "    }\n",
       "</style>\n",
       "<table border=\"1\" class=\"dataframe\">\n",
       "  <thead>\n",
       "    <tr style=\"text-align: right;\">\n",
       "      <th></th>\n",
       "      <th>House Number</th>\n",
       "      <th>Street</th>\n",
       "      <th>First Name</th>\n",
       "      <th>Surname</th>\n",
       "      <th>Age</th>\n",
       "      <th>Relationship to Head of House</th>\n",
       "      <th>Marital Status</th>\n",
       "      <th>Gender</th>\n",
       "      <th>Occupation</th>\n",
       "      <th>Infirmity</th>\n",
       "      <th>Religion</th>\n",
       "    </tr>\n",
       "  </thead>\n",
       "  <tbody>\n",
       "    <tr>\n",
       "      <th>0</th>\n",
       "      <td>1</td>\n",
       "      <td>Breakfast Drive</td>\n",
       "      <td>Robert</td>\n",
       "      <td>Scott</td>\n",
       "      <td>45.0</td>\n",
       "      <td>Head</td>\n",
       "      <td>Single</td>\n",
       "      <td>Male</td>\n",
       "      <td>Unemployed</td>\n",
       "      <td>None</td>\n",
       "      <td>Christian</td>\n",
       "    </tr>\n",
       "    <tr>\n",
       "      <th>1</th>\n",
       "      <td>2</td>\n",
       "      <td>Breakfast Drive</td>\n",
       "      <td>Ricky</td>\n",
       "      <td>Morris</td>\n",
       "      <td>41.0</td>\n",
       "      <td>Head</td>\n",
       "      <td>Divorced</td>\n",
       "      <td>Male</td>\n",
       "      <td>Youth worker</td>\n",
       "      <td>None</td>\n",
       "      <td>None</td>\n",
       "    </tr>\n",
       "    <tr>\n",
       "      <th>2</th>\n",
       "      <td>3</td>\n",
       "      <td>Breakfast Drive</td>\n",
       "      <td>Kathleen</td>\n",
       "      <td>Parry</td>\n",
       "      <td>26.0</td>\n",
       "      <td>Head</td>\n",
       "      <td>Married</td>\n",
       "      <td>Female</td>\n",
       "      <td>Accommodation manager</td>\n",
       "      <td>None</td>\n",
       "      <td>Muslim</td>\n",
       "    </tr>\n",
       "    <tr>\n",
       "      <th>3</th>\n",
       "      <td>3</td>\n",
       "      <td>Breakfast Drive</td>\n",
       "      <td>Steven</td>\n",
       "      <td>Parry</td>\n",
       "      <td>29.0</td>\n",
       "      <td>Husband</td>\n",
       "      <td>Married</td>\n",
       "      <td>Male</td>\n",
       "      <td>Administrator, education</td>\n",
       "      <td>None</td>\n",
       "      <td>None</td>\n",
       "    </tr>\n",
       "    <tr>\n",
       "      <th>4</th>\n",
       "      <td>4</td>\n",
       "      <td>Breakfast Drive</td>\n",
       "      <td>Barbara</td>\n",
       "      <td>Pugh</td>\n",
       "      <td>85.0</td>\n",
       "      <td>Head</td>\n",
       "      <td>Widowed</td>\n",
       "      <td>Female</td>\n",
       "      <td>Retired Airline pilot</td>\n",
       "      <td>None</td>\n",
       "      <td>None</td>\n",
       "    </tr>\n",
       "    <tr>\n",
       "      <th>...</th>\n",
       "      <td>...</td>\n",
       "      <td>...</td>\n",
       "      <td>...</td>\n",
       "      <td>...</td>\n",
       "      <td>...</td>\n",
       "      <td>...</td>\n",
       "      <td>...</td>\n",
       "      <td>...</td>\n",
       "      <td>...</td>\n",
       "      <td>...</td>\n",
       "      <td>...</td>\n",
       "    </tr>\n",
       "    <tr>\n",
       "      <th>10166</th>\n",
       "      <td>1</td>\n",
       "      <td>Williams Barracks</td>\n",
       "      <td>Damian</td>\n",
       "      <td>Hanson</td>\n",
       "      <td>54.0</td>\n",
       "      <td>Head</td>\n",
       "      <td>Married</td>\n",
       "      <td>Male</td>\n",
       "      <td>Surveyor, minerals</td>\n",
       "      <td>None</td>\n",
       "      <td>Christian</td>\n",
       "    </tr>\n",
       "    <tr>\n",
       "      <th>10167</th>\n",
       "      <td>1</td>\n",
       "      <td>Williams Barracks</td>\n",
       "      <td>Cheryl</td>\n",
       "      <td>Hanson</td>\n",
       "      <td>52.0</td>\n",
       "      <td>Wife</td>\n",
       "      <td>Married</td>\n",
       "      <td>Female</td>\n",
       "      <td>Intelligence analyst</td>\n",
       "      <td>None</td>\n",
       "      <td>Christian</td>\n",
       "    </tr>\n",
       "    <tr>\n",
       "      <th>10168</th>\n",
       "      <td>1</td>\n",
       "      <td>Williams Barracks</td>\n",
       "      <td>Douglas</td>\n",
       "      <td>Hanson</td>\n",
       "      <td>18.0</td>\n",
       "      <td>Son</td>\n",
       "      <td>Divorced</td>\n",
       "      <td>Male</td>\n",
       "      <td>Student</td>\n",
       "      <td>None</td>\n",
       "      <td>Christian</td>\n",
       "    </tr>\n",
       "    <tr>\n",
       "      <th>10169</th>\n",
       "      <td>1</td>\n",
       "      <td>Williams Barracks</td>\n",
       "      <td>Emma</td>\n",
       "      <td>Hanson</td>\n",
       "      <td>15.0</td>\n",
       "      <td>Daughter</td>\n",
       "      <td>NaN</td>\n",
       "      <td>Female</td>\n",
       "      <td>Student</td>\n",
       "      <td>None</td>\n",
       "      <td>NaN</td>\n",
       "    </tr>\n",
       "    <tr>\n",
       "      <th>10170</th>\n",
       "      <td>1</td>\n",
       "      <td>Williams Barracks</td>\n",
       "      <td>Bethan</td>\n",
       "      <td>Hanson</td>\n",
       "      <td>9.0</td>\n",
       "      <td>Daughter</td>\n",
       "      <td>NaN</td>\n",
       "      <td>Female</td>\n",
       "      <td>Studen</td>\n",
       "      <td>None</td>\n",
       "      <td>NaN</td>\n",
       "    </tr>\n",
       "  </tbody>\n",
       "</table>\n",
       "<p>10171 rows × 11 columns</p>\n",
       "</div>"
      ],
      "text/plain": [
       "      House Number             Street First Name Surname   Age  \\\n",
       "0                1    Breakfast Drive     Robert   Scott  45.0   \n",
       "1                2    Breakfast Drive      Ricky  Morris  41.0   \n",
       "2                3    Breakfast Drive   Kathleen   Parry  26.0   \n",
       "3                3    Breakfast Drive     Steven   Parry  29.0   \n",
       "4                4    Breakfast Drive    Barbara    Pugh  85.0   \n",
       "...            ...                ...        ...     ...   ...   \n",
       "10166            1  Williams Barracks     Damian  Hanson  54.0   \n",
       "10167            1  Williams Barracks     Cheryl  Hanson  52.0   \n",
       "10168            1  Williams Barracks    Douglas  Hanson  18.0   \n",
       "10169            1  Williams Barracks       Emma  Hanson  15.0   \n",
       "10170            1  Williams Barracks     Bethan  Hanson   9.0   \n",
       "\n",
       "      Relationship to Head of House Marital Status  Gender  \\\n",
       "0                              Head         Single    Male   \n",
       "1                              Head       Divorced    Male   \n",
       "2                              Head        Married  Female   \n",
       "3                           Husband        Married    Male   \n",
       "4                              Head        Widowed  Female   \n",
       "...                             ...            ...     ...   \n",
       "10166                          Head        Married    Male   \n",
       "10167                          Wife        Married  Female   \n",
       "10168                           Son       Divorced    Male   \n",
       "10169                      Daughter            NaN  Female   \n",
       "10170                      Daughter            NaN  Female   \n",
       "\n",
       "                     Occupation Infirmity   Religion  \n",
       "0                    Unemployed      None  Christian  \n",
       "1                  Youth worker      None       None  \n",
       "2         Accommodation manager      None     Muslim  \n",
       "3      Administrator, education      None       None  \n",
       "4         Retired Airline pilot      None       None  \n",
       "...                         ...       ...        ...  \n",
       "10166        Surveyor, minerals      None  Christian  \n",
       "10167      Intelligence analyst      None  Christian  \n",
       "10168                   Student      None  Christian  \n",
       "10169                   Student      None        NaN  \n",
       "10170                    Studen      None        NaN  \n",
       "\n",
       "[10171 rows x 11 columns]"
      ]
     },
     "execution_count": 3,
     "metadata": {},
     "output_type": "execute_result"
    }
   ],
   "source": [
    "df"
   ]
  },
  {
   "cell_type": "code",
   "execution_count": 4,
   "id": "7c0c24d2",
   "metadata": {
    "scrolled": true
   },
   "outputs": [
    {
     "name": "stdout",
     "output_type": "stream",
     "text": [
      "<class 'pandas.core.frame.DataFrame'>\n",
      "RangeIndex: 10171 entries, 0 to 10170\n",
      "Data columns (total 11 columns):\n",
      " #   Column                         Non-Null Count  Dtype  \n",
      "---  ------                         --------------  -----  \n",
      " 0   House Number                   10171 non-null  object \n",
      " 1   Street                         10171 non-null  object \n",
      " 2   First Name                     10171 non-null  object \n",
      " 3   Surname                        10171 non-null  object \n",
      " 4   Age                            10171 non-null  float64\n",
      " 5   Relationship to Head of House  10171 non-null  object \n",
      " 6   Marital Status                 7735 non-null   object \n",
      " 7   Gender                         10171 non-null  object \n",
      " 8   Occupation                     10171 non-null  object \n",
      " 9   Infirmity                      10171 non-null  object \n",
      " 10  Religion                       7673 non-null   object \n",
      "dtypes: float64(1), object(10)\n",
      "memory usage: 874.2+ KB\n"
     ]
    }
   ],
   "source": [
    "df.info()"
   ]
  },
  {
   "cell_type": "code",
   "execution_count": 5,
   "id": "1ce85717",
   "metadata": {
    "scrolled": false
   },
   "outputs": [
    {
     "data": {
      "text/plain": [
       "House Number                        0\n",
       "Street                              0\n",
       "First Name                          0\n",
       "Surname                             0\n",
       "Age                                 0\n",
       "Relationship to Head of House       0\n",
       "Marital Status                   2436\n",
       "Gender                              0\n",
       "Occupation                          0\n",
       "Infirmity                           0\n",
       "Religion                         2498\n",
       "dtype: int64"
      ]
     },
     "execution_count": 5,
     "metadata": {},
     "output_type": "execute_result"
    }
   ],
   "source": [
    "df.isnull().sum()"
   ]
  },
  {
   "cell_type": "code",
   "execution_count": 55,
   "id": "e4694469",
   "metadata": {},
   "outputs": [
    {
     "data": {
      "text/plain": [
       "(10171, 12)"
      ]
     },
     "execution_count": 55,
     "metadata": {},
     "output_type": "execute_result"
    }
   ],
   "source": [
    "df.shape"
   ]
  },
  {
   "cell_type": "markdown",
   "id": "b29e9dd5",
   "metadata": {},
   "source": [
    "# DATA CLEANING"
   ]
  },
  {
   "cell_type": "code",
   "execution_count": 6,
   "id": "a8beb055",
   "metadata": {
    "scrolled": true
   },
   "outputs": [
    {
     "data": {
      "text/plain": [
       "array(['1', '2', '3', '4', '5', '6', '7', '8', '9', '10', '11', '12',\n",
       "       '13', '14', '15', '16', '17', '18', '19', '20', '21', '22', '23',\n",
       "       '24', '25', '26', '27', '28', '29', '30', '31', '32', '33', '34',\n",
       "       '35', '36', '37', '38', '39', '40', '41', '42', '43', '44', '45',\n",
       "       '46', '47', '48', '49', '50', '51', '52', '53', '54', '55', '56',\n",
       "       '57', '58', '59', '60', '61', '62', '63', '64', '65', '66', '67',\n",
       "       '68', '69', '70', '71', '72', '73', '74', '75', '76', '77', '78',\n",
       "       '79', '80', '81', '82', '83', '84', '85', '86', '87', '88', '89',\n",
       "       '90', '91', '92', '93', '94', '95', '96', '97', '98', '99', '100',\n",
       "       '101', '102', '103', '104', '105', '106', '107', '108', '109',\n",
       "       '110', '111', '112', '113', '114', '115', '116', '117', '118',\n",
       "       '119', '120', '121', '122', '123', '124', '125', '126', '127',\n",
       "       '128', '129', '130', '131', '132', '133', '134', '135', '136',\n",
       "       '137', '138', '139', '140', '141', '142', '143', '144', '145',\n",
       "       '146', '147', '148', '149', '150', '151', '152', '153', '154',\n",
       "       '155', '156', '157', '158', '159', '160', '161', '162', '163',\n",
       "       '164', '165', '166', '167', '168', '169', '170', '171', '172',\n",
       "       '173', '174', '175', '176', '177', '178', '179', '180', '181',\n",
       "       '182', '183', '184', '185', '186', '187', '188', '189', '190',\n",
       "       '191', '192', '193', '194', '195', '196', '197', ' ', '198', '199',\n",
       "       '200', '201', '202', '203', '204', '205', '206', '207', '208',\n",
       "       '209', '210', '211', '212', '213', '214', '215', '216', '217'],\n",
       "      dtype=object)"
      ]
     },
     "execution_count": 6,
     "metadata": {},
     "output_type": "execute_result"
    }
   ],
   "source": [
    "df['House Number'].unique()"
   ]
  },
  {
   "cell_type": "code",
   "execution_count": 7,
   "id": "28f51b5b",
   "metadata": {},
   "outputs": [
    {
     "data": {
      "text/html": [
       "<div>\n",
       "<style scoped>\n",
       "    .dataframe tbody tr th:only-of-type {\n",
       "        vertical-align: middle;\n",
       "    }\n",
       "\n",
       "    .dataframe tbody tr th {\n",
       "        vertical-align: top;\n",
       "    }\n",
       "\n",
       "    .dataframe thead th {\n",
       "        text-align: right;\n",
       "    }\n",
       "</style>\n",
       "<table border=\"1\" class=\"dataframe\">\n",
       "  <thead>\n",
       "    <tr style=\"text-align: right;\">\n",
       "      <th></th>\n",
       "      <th>House Number</th>\n",
       "      <th>Street</th>\n",
       "      <th>First Name</th>\n",
       "      <th>Surname</th>\n",
       "      <th>Age</th>\n",
       "      <th>Relationship to Head of House</th>\n",
       "      <th>Marital Status</th>\n",
       "      <th>Gender</th>\n",
       "      <th>Occupation</th>\n",
       "      <th>Infirmity</th>\n",
       "      <th>Religion</th>\n",
       "    </tr>\n",
       "  </thead>\n",
       "  <tbody>\n",
       "    <tr>\n",
       "      <th>2340</th>\n",
       "      <td></td>\n",
       "      <td>Scepter Extension</td>\n",
       "      <td>Chelsea</td>\n",
       "      <td>Gough</td>\n",
       "      <td>77.0</td>\n",
       "      <td>Head</td>\n",
       "      <td>Married</td>\n",
       "      <td>Female</td>\n",
       "      <td>Retired Sub</td>\n",
       "      <td>None</td>\n",
       "      <td>Catholic</td>\n",
       "    </tr>\n",
       "    <tr>\n",
       "      <th>2341</th>\n",
       "      <td></td>\n",
       "      <td>Scepter Extension</td>\n",
       "      <td>Gerard</td>\n",
       "      <td>Hughes</td>\n",
       "      <td>80.0</td>\n",
       "      <td>Husband</td>\n",
       "      <td>Married</td>\n",
       "      <td>Male</td>\n",
       "      <td>Retired Corporate investment banker</td>\n",
       "      <td>None</td>\n",
       "      <td>Catholic</td>\n",
       "    </tr>\n",
       "    <tr>\n",
       "      <th>2342</th>\n",
       "      <td></td>\n",
       "      <td>Scepter Extension</td>\n",
       "      <td>Suzanne</td>\n",
       "      <td>Gough</td>\n",
       "      <td>41.0</td>\n",
       "      <td>Daughter</td>\n",
       "      <td>Divorced</td>\n",
       "      <td>Female</td>\n",
       "      <td>Unemployed</td>\n",
       "      <td>None</td>\n",
       "      <td>None</td>\n",
       "    </tr>\n",
       "    <tr>\n",
       "      <th>2343</th>\n",
       "      <td></td>\n",
       "      <td>Scepter Extension</td>\n",
       "      <td>Jonathan</td>\n",
       "      <td>Gough</td>\n",
       "      <td>31.0</td>\n",
       "      <td>Son</td>\n",
       "      <td>Single</td>\n",
       "      <td>Male</td>\n",
       "      <td>Television production assistant</td>\n",
       "      <td>None</td>\n",
       "      <td>Catholic</td>\n",
       "    </tr>\n",
       "    <tr>\n",
       "      <th>2344</th>\n",
       "      <td></td>\n",
       "      <td>Scepter Extension</td>\n",
       "      <td>Sophie</td>\n",
       "      <td>Gough</td>\n",
       "      <td>28.0</td>\n",
       "      <td>Daughter</td>\n",
       "      <td>Single</td>\n",
       "      <td>Female</td>\n",
       "      <td>Call centre manager</td>\n",
       "      <td>None</td>\n",
       "      <td>None</td>\n",
       "    </tr>\n",
       "    <tr>\n",
       "      <th>7596</th>\n",
       "      <td></td>\n",
       "      <td></td>\n",
       "      <td>Katherine</td>\n",
       "      <td>Howell</td>\n",
       "      <td>39.0</td>\n",
       "      <td>Head</td>\n",
       "      <td>Married</td>\n",
       "      <td>Female</td>\n",
       "      <td>Doctor, hospital</td>\n",
       "      <td>None</td>\n",
       "      <td>Christian</td>\n",
       "    </tr>\n",
       "  </tbody>\n",
       "</table>\n",
       "</div>"
      ],
      "text/plain": [
       "     House Number             Street First Name Surname   Age  \\\n",
       "2340               Scepter Extension    Chelsea   Gough  77.0   \n",
       "2341               Scepter Extension     Gerard  Hughes  80.0   \n",
       "2342               Scepter Extension    Suzanne   Gough  41.0   \n",
       "2343               Scepter Extension   Jonathan   Gough  31.0   \n",
       "2344               Scepter Extension     Sophie   Gough  28.0   \n",
       "7596                                  Katherine  Howell  39.0   \n",
       "\n",
       "     Relationship to Head of House Marital Status  Gender  \\\n",
       "2340                          Head        Married  Female   \n",
       "2341                       Husband        Married    Male   \n",
       "2342                      Daughter       Divorced  Female   \n",
       "2343                           Son         Single    Male   \n",
       "2344                      Daughter         Single  Female   \n",
       "7596                          Head        Married  Female   \n",
       "\n",
       "                               Occupation Infirmity   Religion  \n",
       "2340                          Retired Sub      None   Catholic  \n",
       "2341  Retired Corporate investment banker      None   Catholic  \n",
       "2342                           Unemployed      None       None  \n",
       "2343      Television production assistant      None   Catholic  \n",
       "2344                  Call centre manager      None       None  \n",
       "7596                     Doctor, hospital      None  Christian  "
      ]
     },
     "execution_count": 7,
     "metadata": {},
     "output_type": "execute_result"
    }
   ],
   "source": [
    "df.loc[df['House Number']==' ']"
   ]
  },
  {
   "cell_type": "code",
   "execution_count": 8,
   "id": "d83bafc7",
   "metadata": {},
   "outputs": [],
   "source": [
    "df.at[2340, 'House Number']=13\n",
    "df.at[2341,'House Number']=13\n",
    "df.at[2342,'House Number']=13\n",
    "df.at[2343,'House Number']=13\n",
    "df.at[2344,'House Number']=13\n",
    "df.at[7596,'House Number']=148"
   ]
  },
  {
   "cell_type": "code",
   "execution_count": 9,
   "id": "f5951431",
   "metadata": {
    "scrolled": true
   },
   "outputs": [
    {
     "data": {
      "text/plain": [
       "array(['Breakfast Drive', 'Moore Roads', ' ', 'Gloucester Drive',\n",
       "       'Pinewood Expressway', 'Clark Island', 'Williams Pine', 'Hyde Key',\n",
       "       'Lancaster Street', 'Nottinghampack Lane', 'Mercy Locks',\n",
       "       'Palmtree Road', 'Crab Light', 'Scepter Extension',\n",
       "       'Cellarpush Avenue', 'Grape Lane', 'Windy Drive', 'Austin Divide',\n",
       "       'Ambrosia Walks', 'Wilson Plain', 'Patterson Hollow',\n",
       "       'Ouseweave Avenue', 'Jackson Trace', 'Tulip Drive', 'Bangor Road',\n",
       "       'Bangor Rd', 'Panther Cliffs', 'Newfound Avenue',\n",
       "       'Embankment Avenue', 'Daisy Avenue', 'Williams Island',\n",
       "       'Aquarius Avenue', 'Toucan Avenue', 'Stevens Prairie',\n",
       "       'Graham Radial', 'Bradford Road', 'Bastille Crest', 'Racoon Drive',\n",
       "       'Coventry Drive', 'Whitehouse Drive', 'Williams Road',\n",
       "       'Monument Station', 'Williams Street', 'Cambridge Spur',\n",
       "       'Wallace Unions', 'Ross Avenue', 'Gwenthook Avenue',\n",
       "       'Gwenthook Ave', 'Vaughan Hollow', 'Morgan Street',\n",
       "       'St.Matthew Unions', 'April Street', 'Bruce Lock',\n",
       "       'Yellowditch Drive', 'Walton Greens', 'Davies Valleys',\n",
       "       'Monk Port', 'Turnbull Isle', 'Hope River', 'Drummer Club',\n",
       "       'Exeter Corner', 'Roberts Mountain', 'Stone Center',\n",
       "       'Wilson Street', 'Gallagher Wells', 'Dublin Lane', 'Rowley Road',\n",
       "       'Clark Fort', 'Henderson Rapid', 'Roberts Avenue',\n",
       "       'Bumblebeeadd Drive', 'Grant Springs', 'Merlin Drive',\n",
       "       'Libra Street', 'Preston Lane', 'Plymouth Stream', 'Dale Shoal',\n",
       "       'Bates Land', 'Byrne Drive', 'Pigeon Street', 'Holland Drive',\n",
       "       'Mustard Crossroad', 'Hudson Station', 'Mitchell Throughway',\n",
       "       'Ouse Corner', 'Davies Ports', 'Derby Roads', 'Love Road',\n",
       "       'Dragons Circles', 'Bangor Track', 'Edwards Crescent',\n",
       "       'Dunn Views', 'Mann Fords', 'Robinson Keep', 'High Manor',\n",
       "       'November Ranch', 'Powys Tower', 'Tomlinson Rocks',\n",
       "       'Smith Windmill', 'Wilkinson Hold', 'White Obervatory',\n",
       "       'Crown Haven', 'Jones Windmill', 'Lichfield Lodge',\n",
       "       'Coconut Spire', 'Wharf Ranch', 'Lawson Bastion',\n",
       "       'Williams Barracks'], dtype=object)"
      ]
     },
     "execution_count": 9,
     "metadata": {},
     "output_type": "execute_result"
    }
   ],
   "source": [
    "df['Street'].unique()"
   ]
  },
  {
   "cell_type": "code",
   "execution_count": 10,
   "id": "4f312c48",
   "metadata": {},
   "outputs": [
    {
     "data": {
      "text/html": [
       "<div>\n",
       "<style scoped>\n",
       "    .dataframe tbody tr th:only-of-type {\n",
       "        vertical-align: middle;\n",
       "    }\n",
       "\n",
       "    .dataframe tbody tr th {\n",
       "        vertical-align: top;\n",
       "    }\n",
       "\n",
       "    .dataframe thead th {\n",
       "        text-align: right;\n",
       "    }\n",
       "</style>\n",
       "<table border=\"1\" class=\"dataframe\">\n",
       "  <thead>\n",
       "    <tr style=\"text-align: right;\">\n",
       "      <th></th>\n",
       "      <th>House Number</th>\n",
       "      <th>Street</th>\n",
       "      <th>First Name</th>\n",
       "      <th>Surname</th>\n",
       "      <th>Age</th>\n",
       "      <th>Relationship to Head of House</th>\n",
       "      <th>Marital Status</th>\n",
       "      <th>Gender</th>\n",
       "      <th>Occupation</th>\n",
       "      <th>Infirmity</th>\n",
       "      <th>Religion</th>\n",
       "    </tr>\n",
       "  </thead>\n",
       "  <tbody>\n",
       "    <tr>\n",
       "      <th>1044</th>\n",
       "      <td>153</td>\n",
       "      <td></td>\n",
       "      <td>Alan</td>\n",
       "      <td>Coleman</td>\n",
       "      <td>35.0</td>\n",
       "      <td>Head</td>\n",
       "      <td>Single</td>\n",
       "      <td>Male</td>\n",
       "      <td>Pharmacologist</td>\n",
       "      <td>None</td>\n",
       "      <td>None</td>\n",
       "    </tr>\n",
       "    <tr>\n",
       "      <th>3433</th>\n",
       "      <td>19</td>\n",
       "      <td></td>\n",
       "      <td>Joanne</td>\n",
       "      <td>Howard</td>\n",
       "      <td>28.0</td>\n",
       "      <td>Head</td>\n",
       "      <td>Married</td>\n",
       "      <td>Female</td>\n",
       "      <td>Production engineer</td>\n",
       "      <td>None</td>\n",
       "      <td>Christian</td>\n",
       "    </tr>\n",
       "    <tr>\n",
       "      <th>7596</th>\n",
       "      <td>148</td>\n",
       "      <td></td>\n",
       "      <td>Katherine</td>\n",
       "      <td>Howell</td>\n",
       "      <td>39.0</td>\n",
       "      <td>Head</td>\n",
       "      <td>Married</td>\n",
       "      <td>Female</td>\n",
       "      <td>Doctor, hospital</td>\n",
       "      <td>None</td>\n",
       "      <td>Christian</td>\n",
       "    </tr>\n",
       "  </tbody>\n",
       "</table>\n",
       "</div>"
      ],
      "text/plain": [
       "     House Number Street First Name  Surname   Age  \\\n",
       "1044          153              Alan  Coleman  35.0   \n",
       "3433           19            Joanne   Howard  28.0   \n",
       "7596          148         Katherine   Howell  39.0   \n",
       "\n",
       "     Relationship to Head of House Marital Status  Gender  \\\n",
       "1044                          Head         Single    Male   \n",
       "3433                          Head        Married  Female   \n",
       "7596                          Head        Married  Female   \n",
       "\n",
       "               Occupation Infirmity   Religion  \n",
       "1044       Pharmacologist      None       None  \n",
       "3433  Production engineer      None  Christian  \n",
       "7596     Doctor, hospital      None  Christian  "
      ]
     },
     "execution_count": 10,
     "metadata": {},
     "output_type": "execute_result"
    }
   ],
   "source": [
    "df.loc[df['Street']==' ']"
   ]
  },
  {
   "cell_type": "code",
   "execution_count": 11,
   "id": "f0b5201f",
   "metadata": {},
   "outputs": [],
   "source": [
    "df.at[1044, 'Street']='Moore Roads'\n",
    "df.at[3433, 'Street']='Embankment Avenue'\n",
    "df.at[7596, 'Street']='Gallagher Wells'"
   ]
  },
  {
   "cell_type": "code",
   "execution_count": 12,
   "id": "de287d8a",
   "metadata": {},
   "outputs": [
    {
     "data": {
      "text/plain": [
       "array(['Robert', 'Ricky', 'Kathleen', 'Steven', 'Barbara', 'Sandra',\n",
       "       'Mandy', 'Kathryn', 'Catherine', 'Chelsea', 'Lorraine', 'Pauline',\n",
       "       'Andrew', 'Jodie', 'Keith', 'Frances', 'Rebecca', 'Denise',\n",
       "       'Victor', 'Vincent', 'Shirley', 'Heather', 'Declan', 'Paul',\n",
       "       'Melanie', 'Leon', 'Kate', 'Simon', 'Carole', 'Sian', 'Richard',\n",
       "       'Timothy', 'Brandon', 'Amelia', 'Josephine', 'Jake', 'Angela',\n",
       "       'Kirsty', 'Sylvia', 'Leah', 'Marilyn', 'Conor', 'Bryan', 'Billy',\n",
       "       'Abbie', 'Dominic', 'Zoe', 'Gareth', 'Judith', 'Josh', 'Stephanie',\n",
       "       'Hayley', 'Nigel', 'Beth', 'Molly', 'Louis', 'Katherine', 'Sam',\n",
       "       'Shannon', 'Graham', 'Jeffrey', 'Clive', 'Charlie', 'Christine',\n",
       "       'Owen', 'Cameron', 'Elliot', 'Nicola', 'Ashleigh', 'Fiona',\n",
       "       'Rosie', 'Graeme', 'Lucy', 'Chloe', 'Mathew', 'Gordon', 'Allan',\n",
       "       'Lindsey', 'Leonard', 'Matthew', 'Naomi', 'James', 'Mitchell',\n",
       "       'Aaron', 'Marie', 'Nicholas', 'Samantha', 'Jason', 'Patrick',\n",
       "       'Bernard', 'Tracey', 'Toby', 'Sharon', 'Nicole', 'Denis', 'Sally',\n",
       "       'Katie', 'Leanne', 'William', 'Lawrence', 'Gary', 'Luke', 'Janet',\n",
       "       'Paula', 'Tracy', 'Sara', 'Arthur', 'Harriet', 'Glen', 'Ronald',\n",
       "       'Maria', 'Gerald', 'Benjamin', 'Suzanne', 'Ruth', 'Beverley',\n",
       "       'Rosemary', 'Joe', 'Dorothy', 'Iain', 'Gregory', 'Damian',\n",
       "       'Samuel', 'Elizabeth', 'Francis', 'Justin', 'Stacey', 'Lesley',\n",
       "       'Russell', 'Darren', 'Marcus', 'Roy', ' ', 'Danielle', 'Joseph',\n",
       "       'Colin', 'Bradley', 'Mary', 'Deborah', 'Brenda', 'Nathan', 'Helen',\n",
       "       'Elaine', 'Alexander', 'Anthony', 'Carly', 'Natasha', 'Henry',\n",
       "       'Lydia', 'Kyle', 'Stephen', 'Donald', 'Lisa', 'Leslie', 'Jamie',\n",
       "       'Charles', 'Mohammad', 'Lewis', 'Kelly', 'Antony', 'Norman',\n",
       "       'Michael', 'Damien', 'Geraldine', 'Roger', 'Kerry', 'Megan',\n",
       "       'Georgina', 'Sophie', 'Edward', 'Rachael', 'Dawn', 'Scott',\n",
       "       'Barry', 'Michelle', 'Linda', 'Hilary', 'Anna', 'Karl', 'Jessica',\n",
       "       'Garry', 'Bruce', 'Eric', 'Carol', 'Sean', 'Ian', 'Albert',\n",
       "       'Reece', 'Clifford', 'Lynn', 'Shaun', 'Alexandra', 'Howard',\n",
       "       'Ellie', 'Joanne', 'Dean', 'Elliott', 'Philip', 'Irene',\n",
       "       'Charlotte', 'Callum', 'Holly', 'Cheryl', 'George', 'Kim',\n",
       "       'Jonathan', 'Frederick', 'Laura', 'Jacqueline', 'Hazel', 'Maurice',\n",
       "       'Hugh', 'Amber', 'Gerard', 'Leigh', 'Connor', 'Jay', 'Jack',\n",
       "       'June', 'Joshua', 'Teresa', 'Amanda', 'Patricia', 'Diane',\n",
       "       'Alison', 'Julian', 'Clare', 'Olivia', 'Max', 'Janice', 'Trevor',\n",
       "       'Liam', 'Jasmine', 'Emily', 'Marian', 'Yvonne', 'Carolyn',\n",
       "       'Valerie', 'Tina', 'Gillian', 'Joyce', 'Adrian', 'Karen',\n",
       "       'Margaret', 'Daniel', 'Rita', 'Katy', 'Kevin', 'John', 'Christian',\n",
       "       'Amy', 'Gail', 'Susan', 'Marion', 'Hollie', 'Douglas', 'Abdul',\n",
       "       'Kimberley', 'Terence', 'Neil', 'Dennis', 'Annette', 'Jayne',\n",
       "       'Natalie', 'Guy', 'Dale', 'Lynda', 'Christopher', 'Martin',\n",
       "       'Jacob', 'Donna', 'Danny', 'Duncan', 'Kenneth', 'Kieran', 'Ryan',\n",
       "       'Julia', 'Tom', 'Geoffrey', 'Stewart', 'Jill', 'Jenna', 'Martyn',\n",
       "       'Vanessa', 'Tony', 'Mohamed', 'Hannah', 'Phillip', 'Lee', 'Robin',\n",
       "       'Grace', 'Louise', 'Wendy', 'Julie', 'Alex', 'Caroline',\n",
       "       'Jennifer', 'Glenn', 'Rachel', 'Jade', 'Joan', 'Francesca',\n",
       "       'Ashley', 'Harry', 'Derek', 'Eileen', 'Oliver', 'Jeremy', 'Anne',\n",
       "       'Sarah', 'Jane', 'Terry', 'Shane', 'Mohammed', 'Paige', 'Dylan',\n",
       "       'Andrea', 'Ben', 'Lynne', 'Jordan', 'Emma', 'Joel', 'Kayleigh',\n",
       "       'Brian', 'Peter', 'Carl', 'Victoria', 'Claire', 'Craig', 'Alice',\n",
       "       'Diana', 'Ross', 'Stuart', 'Malcolm', 'Abigail', 'Maureen',\n",
       "       'Bethany', 'Jean', 'Stanley', 'Joanna', 'Mark', 'Ann', 'Pamela',\n",
       "       'Jemma', 'Raymond', 'Adam', 'Melissa', 'David', 'Debra',\n",
       "       'Charlene', 'Alan', 'Bethan', 'Thomas', 'Gemma', 'Marc', 'Rhys',\n",
       "       'Aimee', 'Georgia', 'Wayne', 'Eleanor', 'Sheila', 'Frank',\n",
       "       'Lauren', 'Gavin', 'Brett', 'Hafsa'], dtype=object)"
      ]
     },
     "execution_count": 12,
     "metadata": {},
     "output_type": "execute_result"
    }
   ],
   "source": [
    "df['First Name'].unique()"
   ]
  },
  {
   "cell_type": "code",
   "execution_count": 13,
   "id": "aa1b7081",
   "metadata": {},
   "outputs": [
    {
     "data": {
      "text/html": [
       "<div>\n",
       "<style scoped>\n",
       "    .dataframe tbody tr th:only-of-type {\n",
       "        vertical-align: middle;\n",
       "    }\n",
       "\n",
       "    .dataframe tbody tr th {\n",
       "        vertical-align: top;\n",
       "    }\n",
       "\n",
       "    .dataframe thead th {\n",
       "        text-align: right;\n",
       "    }\n",
       "</style>\n",
       "<table border=\"1\" class=\"dataframe\">\n",
       "  <thead>\n",
       "    <tr style=\"text-align: right;\">\n",
       "      <th></th>\n",
       "      <th>House Number</th>\n",
       "      <th>Street</th>\n",
       "      <th>First Name</th>\n",
       "      <th>Surname</th>\n",
       "      <th>Age</th>\n",
       "      <th>Relationship to Head of House</th>\n",
       "      <th>Marital Status</th>\n",
       "      <th>Gender</th>\n",
       "      <th>Occupation</th>\n",
       "      <th>Infirmity</th>\n",
       "      <th>Religion</th>\n",
       "    </tr>\n",
       "  </thead>\n",
       "  <tbody>\n",
       "    <tr>\n",
       "      <th>162</th>\n",
       "      <td>16</td>\n",
       "      <td>Moore Roads</td>\n",
       "      <td></td>\n",
       "      <td>Charlton</td>\n",
       "      <td>25.0</td>\n",
       "      <td>Lodger</td>\n",
       "      <td>Single</td>\n",
       "      <td>Male</td>\n",
       "      <td>Theatre manager</td>\n",
       "      <td>None</td>\n",
       "      <td>Catholic</td>\n",
       "    </tr>\n",
       "    <tr>\n",
       "      <th>4610</th>\n",
       "      <td>40</td>\n",
       "      <td>Wallace Unions</td>\n",
       "      <td></td>\n",
       "      <td>Wells</td>\n",
       "      <td>1.0</td>\n",
       "      <td>Daughter</td>\n",
       "      <td>NaN</td>\n",
       "      <td>Female</td>\n",
       "      <td>Child</td>\n",
       "      <td>None</td>\n",
       "      <td>NaN</td>\n",
       "    </tr>\n",
       "  </tbody>\n",
       "</table>\n",
       "</div>"
      ],
      "text/plain": [
       "     House Number          Street First Name   Surname   Age  \\\n",
       "162            16     Moore Roads             Charlton  25.0   \n",
       "4610           40  Wallace Unions                Wells   1.0   \n",
       "\n",
       "     Relationship to Head of House Marital Status  Gender       Occupation  \\\n",
       "162                         Lodger         Single    Male  Theatre manager   \n",
       "4610                      Daughter            NaN  Female            Child   \n",
       "\n",
       "     Infirmity  Religion  \n",
       "162       None  Catholic  \n",
       "4610      None       NaN  "
      ]
     },
     "execution_count": 13,
     "metadata": {},
     "output_type": "execute_result"
    }
   ],
   "source": [
    "df.loc[df['First Name']==' ']"
   ]
  },
  {
   "cell_type": "code",
   "execution_count": 14,
   "id": "39ca556e",
   "metadata": {},
   "outputs": [],
   "source": [
    "df.at[162, 'First Name']='Unknown'\n",
    "df.at[4610,'First Name']='Unknown'"
   ]
  },
  {
   "cell_type": "code",
   "execution_count": 15,
   "id": "090c2284",
   "metadata": {},
   "outputs": [
    {
     "data": {
      "text/plain": [
       "array(['Scott', 'Morris', 'Parry', 'Pugh', 'Baker', 'Turner', 'Greenwood',\n",
       "       'Black', 'Rogers', 'Williams', 'Pearson', 'Marshall', 'Henderson',\n",
       "       'Richardson', 'Stephens', 'Tucker', 'Davies', 'Bailey', 'Foster',\n",
       "       'Johnson', 'Cooper', 'Holland', 'Hall', 'Begum', 'Smith', 'Owen',\n",
       "       'Wyatt', 'Mason', 'Hill', 'Burgess', 'Giles', 'Wade', 'Lewis',\n",
       "       'Ball', 'Taylor', 'Kelly', 'Murray', 'Rhodes', 'Walsh', 'Blake',\n",
       "       'Gibbons', 'Matthews', 'Baxter', 'Higgins', 'Hicks', 'Dean',\n",
       "       'Barker', 'Hamilton', 'Thorpe', 'Barnes', 'Griffiths',\n",
       "       'Reynolds-Griffiths', 'Wright', 'Carroll', 'Storey', 'Patel',\n",
       "       'Thomas', 'Stone', 'Marsden', 'Hunt', 'Miller', 'Carter',\n",
       "       'Osborne', 'Johnston', 'Lynch', 'Green', 'Farmer', 'Rose', 'Grant',\n",
       "       'Townsend', 'Marsh', 'Atkinson', 'Sullivan', 'Brookes', 'Collins',\n",
       "       'Charlton', 'Connolly', 'Burton', 'Bond', 'Jones', 'Butler',\n",
       "       'Pearce', 'Parker', 'Cole', 'Cox', 'Bell', 'Day', 'West', 'Holt',\n",
       "       'Kelly-Holt', 'Watson', 'Clarke', 'Goddard', 'Gill', 'Francis',\n",
       "       'Hancock', 'Mitchell', 'Flynn', 'Short', 'Ryan-Short', 'Myers',\n",
       "       'Warren', 'Riley', 'Davison', 'Singh', 'Evans', 'Cunningham',\n",
       "       'Edwards', 'Hammond', 'Potter', 'Hughes', 'Ross', 'Willis',\n",
       "       'Hussain', 'Morgan', 'Burke', 'Harris', 'Murphy-Harris', 'Lowe',\n",
       "       'Webster', 'Bradley', 'Lambert', 'Dawson', 'James', 'John',\n",
       "       'Patterson', 'Wilson', 'Dyer', 'Parkinson', 'Rice', 'Sutton',\n",
       "       'Bennett', 'Hurst', 'Chapman', 'Simmons', 'Stewart', 'Goodwin',\n",
       "       'McCarthy', 'Fraser', 'Reynolds', 'Harrison', 'Kaur', 'Watkins',\n",
       "       'Dixon', 'Jordan', 'Barnett', 'Barry-Goodwin', 'Morton', 'Morley',\n",
       "       'White', 'Bibi', 'Black-Bibi', 'Lees', 'Newman', 'Bray', 'Lee',\n",
       "       'Curtis', 'Parsons', 'Wall-Watson', 'Jackson', 'Porter', 'Hobbs',\n",
       "       \"O'Brien\", 'Andrews', 'Jennings', 'Harvey', 'Brown', 'Gray',\n",
       "       'Brooks', 'Forster', 'Ahmed', 'Khan', 'Miah', 'Vaughan', 'Roberts',\n",
       "       'Bruce-Roberts', 'Allan', 'Robinson', 'Bolton', 'Wood',\n",
       "       'Hall-Wood', 'Gordon', 'Perry-Higgins', 'Davies-Perry-Higgins',\n",
       "       'Iqbal-Davies-Perry-Higgins', 'Wong', 'Walker', 'Davies-Walker',\n",
       "       'Morris-Barrett', 'Ward', 'Moran', 'Hamilton-Thomas', 'Whittaker',\n",
       "       'Whitehead', 'King', 'Thomas-King', 'Lambert-Thomas-King',\n",
       "       'Lawrence-Giles', 'Cook', 'Iqbal', 'Booth', 'Shepherd', 'Campbell',\n",
       "       'Bates', 'Lamb-Bates', 'Todd', 'Weston', 'Connor', 'Ford',\n",
       "       'Murphy', 'Douglas', 'Martin', 'Humphreys', \"O'Neill\", 'Fletcher',\n",
       "       'Wilkins', 'Byrne', 'Pollard', 'Young', 'Hanson', 'Adams',\n",
       "       'Thompson', 'Spencer', 'Williamson', 'Horton', 'Pickering', 'Hart',\n",
       "       'Price', 'Gibson-Powell', 'Potts', 'Norton', 'Watts',\n",
       "       'Watts-Stephens', 'Moore', 'Clarke-Moore', 'Holloway', 'Sykes',\n",
       "       'Warner', 'Knight', 'Craig', 'Glover', 'Patel-Martin',\n",
       "       'Thompson-McCarthy', 'Miles', 'Ryan-Miles', 'Wright-Richardson',\n",
       "       'Hale', 'Haynes', 'Kirby', 'Steele', 'Godfrey', 'Barton', 'Atkins',\n",
       "       'Brooks-White', 'Chan', 'Kennedy', 'Coleman', 'Brady', 'Houghton',\n",
       "       'Wilkinson', 'Metcalfe', 'Daniels', 'Russell', 'Fisher', 'Rees',\n",
       "       'Coles', 'Marshall-Hughes', 'Coates', 'Herbert', 'Garner',\n",
       "       'Fowler', 'Clayton', 'Gardner', 'Arnold', 'Naylor', 'Nicholson',\n",
       "       'Morgan-Smith', 'Walters', 'Hardy-Foster', 'Knowles', 'Graham',\n",
       "       'Nicholls', 'Pope', 'Kirk', 'Field', 'Wallace', 'Allen', 'Powell',\n",
       "       'Phillips', 'Reid', 'Duffy', 'Dunn', 'Sharp', 'Sanders', 'Read',\n",
       "       'Shah', 'Leach', 'Summers', 'Lane', 'Shah-Walker', 'Newton',\n",
       "       'Palmer', 'Davis', 'Gough', 'Clark', 'Payne', 'Rowe', 'Armstrong',\n",
       "       'Sanderson', 'Pritchard', 'Smith-Foster', 'Johnson-Smith-Foster',\n",
       "       'Mann', 'Morley-Bond', 'Bradshaw-Morley-Bond',\n",
       "       'Watson-Bradshaw-Morley-Bond', 'Kent', 'Savage', 'Gardiner',\n",
       "       'Little', 'Carey', 'North', 'Woods', 'Gardner-Taylor', 'Dennis',\n",
       "       'Hayes', 'Pratt', 'Stanley', 'Ferguson', 'Wilkinson-James',\n",
       "       'Conway', 'Holmes', 'Wells', 'Hunt-Holmes', 'Jackson-Marshall',\n",
       "       'Chambers', 'Howells', 'Fuller', 'Faulkner', 'Collier', 'Howarth',\n",
       "       'Frost', 'Anderson', 'Parkes', 'Kerr', 'Barlow', 'Roberts-Rogers',\n",
       "       'Willis-Dawson', 'Bryant', 'Robertson', 'Power', 'Crawford',\n",
       "       'Bowen', 'Nolan', 'Griffiths-Barrett', 'Slater', 'Burns',\n",
       "       'Gilbert', 'Lloyd', 'Wright-Palmer', 'Page', 'Bird', 'Vincent',\n",
       "       'Carter-Knight', 'Smith-Carter-Knight', 'Dobson', 'Sharpe',\n",
       "       'Sharpe-Herbert', 'Dickinson', 'Cooke', 'Ryan', 'Browne',\n",
       "       'Ahmed-Sutton', 'Cross', 'Barrett', 'McDonald', 'Schofield',\n",
       "       'Hunter', 'Harrison-Jennings', 'Barber', 'Gould', 'Fox',\n",
       "       'Todd-Holt', 'Sinclair', 'Perkins', 'Wall', 'Hall-Jackson',\n",
       "       'Mellor', 'Lawrence', 'Jenkins', 'Kemp', 'Freeman', 'Middleton',\n",
       "       'Richards', 'Norris', 'Bull', 'Elliott', 'Harding-Wood',\n",
       "       'Davidson', 'Ali', 'Hope', 'Leonard', 'Gibson', 'Moss', 'Turnbull',\n",
       "       'Long', 'Berry', 'Howe', 'Stevens', 'Yates', 'Simpson', 'May',\n",
       "       'Stokes', 'Buckley', 'Webb', 'Briggs', 'Peters', 'Akhtar',\n",
       "       'Hudson', 'Hayward', 'Daniels-Parker', 'Parkin', 'Humphries',\n",
       "       'Wong-Bennett', 'Gallagher', \"O'Connor\", 'Fuller-Humphreys',\n",
       "       'Bentley', 'Adams-Lewis', 'Bradshaw', 'King-Bradshaw', 'Gregory',\n",
       "       'Hammond-Dixon', 'Birch', 'Banks', 'Taylor-Bray', 'Walton',\n",
       "       'Reeves', 'Smart', 'Brennan', 'Perry', 'Reed', 'Farrell',\n",
       "       'Randall', 'Shaw', 'Howard', 'Wilson-Knight', 'Ingram', 'Hewitt',\n",
       "       'Stevenson', 'Davies-Higgins', 'Carpenter', \"O'Donnell\",\n",
       "       'Woodward', 'Hall-Thompson', 'Mahmood', 'Archer', 'Saunders',\n",
       "       'Lord', 'Stephenson', 'Graham-Bailey', 'Fry', 'Doherty', 'Mills',\n",
       "       'Ashton', 'Oliver', 'Lucas', 'Swift', 'McLean', 'Hopkins',\n",
       "       'Hilton', 'Hawkins', 'Burrows', 'Hutchinson', 'Hunt-Wilkins',\n",
       "       'Sims', 'Frost-Reeves', 'French', 'Doyle', 'Boyle', 'Mistry',\n",
       "       'Preston', 'Davey', 'Baldwin-Vaughan', 'Harper', 'Harris-Hopkins',\n",
       "       'Cameron', 'Talbot', 'Wheeler', 'Nelson', 'Brown-Dobson',\n",
       "       'Skinner', 'Hooper', 'Nash', 'Lamb', 'Nixon', 'Hall-Dean', 'Gibbs',\n",
       "       'Kay', 'Hargreaves', 'Ellis', 'Franklin', 'Mason-Smith',\n",
       "       'Price-Thornton', 'Gibson-Pearson', 'Cooper-Willis', 'Fleming',\n",
       "       'Farrell-Pearson', 'Joyce', 'Preston-Morgan', 'Manning-Jordan',\n",
       "       'Griffin', 'Finch', 'Barry', 'Quinn', 'Poole', 'Carr', 'Norman',\n",
       "       'Jarvis', 'Manning', 'Thornton', 'Chadwick', 'Winter',\n",
       "       'Taylor-Day', 'Bishop', 'Smith-King', 'Murphy-Gardiner',\n",
       "       'Khan-Frost', 'Henry', 'Rowley', 'Alexander', 'Bailey-Alexander',\n",
       "       ' ', 'Waters', 'Thomson', 'Hyde-Bond', 'George', 'Benson',\n",
       "       'Wilson-Hughes', 'Palmer-Carroll', 'Morrison', \"O'Sullivan\",\n",
       "       'Sheppard', 'Baldwin', 'Tomlinson', 'Khan-Walker',\n",
       "       'Robinson-Chamberlain', 'Murphy-Reynolds', 'Hodgson', 'Clements',\n",
       "       'Byrne-Carr', 'Wilkinson-Green', 'Noble', 'John-Johnston',\n",
       "       'Morris-Spencer', 'Rahman', 'Cartwright', 'Ward-Smith',\n",
       "       'Kennedy-Francis', 'Walker-Mistry', 'Shepherd-Ward', 'Hardy',\n",
       "       'Law', 'Potts-Andrews', 'Butcher', 'Peacock', 'Bartlett',\n",
       "       'Reeves-Barnes', 'Chandler', 'McKenzie', 'Lawson', 'Little-Haynes',\n",
       "       'Coles-Day', 'Dale', 'White-White', 'Whitehouse', 'Hughes-Craig',\n",
       "       'Godfrey-Barnes', \"Pearce-O'Sullivan\", 'Rowley-Thompson',\n",
       "       'Watts-Miller', 'Robson', 'Gilbert-Payne', 'Dodd', 'Bevan',\n",
       "       'Talbot-Day', 'Austin', 'Robinson-Nicholson', 'Bennett-Cooper',\n",
       "       'Williams-Brown', 'Law-Wilson', 'Hartley', 'Webb-Conway',\n",
       "       'Ahmed-Marshall', 'Rogers-Smith', 'Duncan', 'James-Fox', 'Welch',\n",
       "       'Bruce', 'Read-Webb', 'Lyons', 'James-Ward', 'Bryan', 'Holden',\n",
       "       'Walker-Gibson', 'Harding', 'Hyde', 'Thorpe-Stanley',\n",
       "       'Gibson-Smith', 'Young-Newton', 'Cook-Young-Newton',\n",
       "       'Fowler-Vaughan', 'Allen-Norris', 'Edwards-Mitchell',\n",
       "       'Hayes-Davis', 'Shaw-Gray', 'Adams-Khan', 'Humphries-Johnson',\n",
       "       'Thomas-Whitehead', 'Macdonald', 'Wood-Smith', 'Daly',\n",
       "       'Evans-Campbell', 'Barber-Rees', 'Austin-Porter', 'Holmes-Wallace',\n",
       "       'Owens', 'Chamberlain', 'Cook-Duffy', 'Ball-Brown', 'Blake-Watson',\n",
       "       'Robinson-Yates', 'Davis-Hudson', 'Robson-Powell', 'Blackburn',\n",
       "       'Griffiths-Watson', 'Abbott', 'Pearson-Turner', 'Walker-Fleming',\n",
       "       'Wyatt-Whitehouse', 'Stanley-Wyatt-Whitehouse', 'Thompson-Walker',\n",
       "       'Howell', 'Miah-Howell', 'Watson-Richardson', 'Richards-Osborne',\n",
       "       'Middleton-Griffiths', 'Hughes-Williams', 'Wright-Blake',\n",
       "       'Conway-Thomas', 'Adams-Kennedy', 'White-Graham', 'Johnson-Young',\n",
       "       'Booth-Gallagher', 'Weston-Pickering', 'Whitehead-Banks',\n",
       "       'Brown-Randall', 'Heath', 'Griffiths-Bell', 'Hayward-Fletcher',\n",
       "       'Hunter-Farmer', 'Dixon-Marsh', 'Crawford-Dixon-Marsh',\n",
       "       'Parry-Poole', 'Allen-Gray', 'Gallagher-Freeman', 'Baker-Fuller',\n",
       "       'Edwards-Foster', 'Hughes-Bartlett', 'Smith-Brooks',\n",
       "       'Roberts-Evans', 'Barton-Roberts-Evans', 'Willis-Ford',\n",
       "       'Green-Barnes', 'Johnson-Briggs', 'Dixon-Hill', 'Atkins-Mills',\n",
       "       'Dawson-Wilson', 'Tyler', 'Khan-Jordan', 'Barber-Williams',\n",
       "       'Stewart-Sutton', 'Frost-Walker', 'Richards-Davis',\n",
       "       'Harris-Newman', \"Smith-O'Connor\", 'Mason-Lawrence',\n",
       "       'Pearce-Richards', 'Moore-Robinson', 'Wright-Taylor',\n",
       "       'Davies-Holland', 'Chan-Grant', 'Smith-Harvey', 'Dawson-Davis',\n",
       "       'Smith-Jennings'], dtype=object)"
      ]
     },
     "execution_count": 15,
     "metadata": {},
     "output_type": "execute_result"
    }
   ],
   "source": [
    "df['Surname'].unique()"
   ]
  },
  {
   "cell_type": "code",
   "execution_count": 16,
   "id": "b73de054",
   "metadata": {
    "scrolled": false
   },
   "outputs": [
    {
     "data": {
      "text/html": [
       "<div>\n",
       "<style scoped>\n",
       "    .dataframe tbody tr th:only-of-type {\n",
       "        vertical-align: middle;\n",
       "    }\n",
       "\n",
       "    .dataframe tbody tr th {\n",
       "        vertical-align: top;\n",
       "    }\n",
       "\n",
       "    .dataframe thead th {\n",
       "        text-align: right;\n",
       "    }\n",
       "</style>\n",
       "<table border=\"1\" class=\"dataframe\">\n",
       "  <thead>\n",
       "    <tr style=\"text-align: right;\">\n",
       "      <th></th>\n",
       "      <th>House Number</th>\n",
       "      <th>Street</th>\n",
       "      <th>First Name</th>\n",
       "      <th>Surname</th>\n",
       "      <th>Age</th>\n",
       "      <th>Relationship to Head of House</th>\n",
       "      <th>Marital Status</th>\n",
       "      <th>Gender</th>\n",
       "      <th>Occupation</th>\n",
       "      <th>Infirmity</th>\n",
       "      <th>Religion</th>\n",
       "    </tr>\n",
       "  </thead>\n",
       "  <tbody>\n",
       "    <tr>\n",
       "      <th>3847</th>\n",
       "      <td>17</td>\n",
       "      <td>Graham Radial</td>\n",
       "      <td>Gerald</td>\n",
       "      <td></td>\n",
       "      <td>0.0</td>\n",
       "      <td>Son</td>\n",
       "      <td>NaN</td>\n",
       "      <td>Male</td>\n",
       "      <td>Child</td>\n",
       "      <td>None</td>\n",
       "      <td>NaN</td>\n",
       "    </tr>\n",
       "    <tr>\n",
       "      <th>5033</th>\n",
       "      <td>28</td>\n",
       "      <td>Morgan Street</td>\n",
       "      <td>Kate</td>\n",
       "      <td></td>\n",
       "      <td>12.0</td>\n",
       "      <td>Daughter</td>\n",
       "      <td>NaN</td>\n",
       "      <td>Female</td>\n",
       "      <td>Student</td>\n",
       "      <td>None</td>\n",
       "      <td>NaN</td>\n",
       "    </tr>\n",
       "    <tr>\n",
       "      <th>5990</th>\n",
       "      <td>26</td>\n",
       "      <td>Monk Port</td>\n",
       "      <td>Adam</td>\n",
       "      <td></td>\n",
       "      <td>4.0</td>\n",
       "      <td>Son</td>\n",
       "      <td>NaN</td>\n",
       "      <td>Male</td>\n",
       "      <td>Child</td>\n",
       "      <td>None</td>\n",
       "      <td>NaN</td>\n",
       "    </tr>\n",
       "  </tbody>\n",
       "</table>\n",
       "</div>"
      ],
      "text/plain": [
       "     House Number         Street First Name Surname   Age  \\\n",
       "3847           17  Graham Radial     Gerald           0.0   \n",
       "5033           28  Morgan Street       Kate          12.0   \n",
       "5990           26      Monk Port       Adam           4.0   \n",
       "\n",
       "     Relationship to Head of House Marital Status  Gender Occupation  \\\n",
       "3847                           Son            NaN    Male      Child   \n",
       "5033                      Daughter            NaN  Female    Student   \n",
       "5990                           Son            NaN    Male      Child   \n",
       "\n",
       "     Infirmity Religion  \n",
       "3847      None      NaN  \n",
       "5033      None      NaN  \n",
       "5990      None      NaN  "
      ]
     },
     "execution_count": 16,
     "metadata": {},
     "output_type": "execute_result"
    }
   ],
   "source": [
    "df.loc[df['Surname']==' ']"
   ]
  },
  {
   "cell_type": "code",
   "execution_count": 17,
   "id": "81656171",
   "metadata": {},
   "outputs": [],
   "source": [
    "df.at[3847, 'Surname']='Walker'\n",
    "df.at[5033, 'Surname']='Murphy'\n",
    "df.at[5990, 'Surname']='Green'"
   ]
  },
  {
   "cell_type": "code",
   "execution_count": 18,
   "id": "810dd083",
   "metadata": {},
   "outputs": [
    {
     "data": {
      "text/plain": [
       "array([4.50000000e+01, 4.10000000e+01, 2.60000000e+01, 2.90000000e+01,\n",
       "       8.50000000e+01, 2.50000000e+01, 6.40000000e+01, 4.00000000e+01,\n",
       "       4.20000000e+01, 2.00000000e+00, 3.60000000e+01, 7.30000000e+01,\n",
       "       1.90000000e+01, 3.70000000e+01, 3.40000000e+01, 3.30000000e+01,\n",
       "       1.70000000e+01, 5.20000000e+01, 5.10000000e+01, 5.50000000e+01,\n",
       "       7.70000000e+01, 2.40000000e+01, 9.00000000e+00, 5.90000000e+01,\n",
       "       2.70000000e+01, 2.80000000e+01, 7.90000000e+01, 3.00000000e+00,\n",
       "       6.20000000e+01, 5.70000000e+01, 3.90000000e+01, 1.40000000e+01,\n",
       "       5.40000000e+01, 3.00000000e+01, 3.10000000e+01, 3.80000000e+01,\n",
       "       6.30000000e+01, 8.30000000e+01, 3.20000000e+01, 2.20000000e+01,\n",
       "       4.80000000e+01, 4.60000000e+01, 8.60000000e+01, 8.10000000e+01,\n",
       "       6.60000000e+01, 9.40000000e+01, 4.90000000e+01, 2.00000000e+01,\n",
       "       1.60000000e+01, 2.10000000e+01, 7.80000000e+01, 4.70000000e+01,\n",
       "       7.40000000e+01, 7.60000000e+01, 6.00000000e+01, 1.30000000e+01,\n",
       "       1.00000000e+01, 6.50000000e+01, 1.50000000e+01, 1.10000000e+01,\n",
       "       6.00000000e+00, 1.20000000e+01, 5.00000000e+00, 4.40000000e+01,\n",
       "       6.10000000e+01, 1.80000000e+01, 4.30000000e+01, 7.00000000e+00,\n",
       "       5.00000000e+01, 0.00000000e+00, 3.50000000e+01, 2.30000000e+01,\n",
       "       8.00000000e+00, 4.00000000e+00, 5.30000000e+01, 5.80000000e+01,\n",
       "       6.31421162e+01, 6.61421162e+01, 6.80000000e+01, 8.00000000e+01,\n",
       "       7.10000000e+01, 7.00000000e+01, 6.70000000e+01, 9.10000000e+01,\n",
       "       8.70000000e+01, 1.00000000e+00, 6.90000000e+01, 7.50000000e+01,\n",
       "       7.20000000e+01, 8.40000000e+01, 5.60000000e+01, 9.00000000e+01,\n",
       "       9.30000000e+01, 8.20000000e+01, 8.90000000e+01, 9.90000000e+01,\n",
       "       8.80000000e+01, 1.05000000e+02, 1.02000000e+02, 1.04000000e+02,\n",
       "       7.04531813e+01, 6.94531813e+01, 9.60000000e+01, 1.01000000e+02,\n",
       "       9.80000000e+01, 1.03000000e+02, 1.00000000e+02, 9.50000000e+01,\n",
       "       1.00000000e-09, 9.20000000e+01, 6.80906100e+01, 6.90906100e+01,\n",
       "       9.23398111e+01, 9.43398111e+01, 9.70000000e+01])"
      ]
     },
     "execution_count": 18,
     "metadata": {},
     "output_type": "execute_result"
    }
   ],
   "source": [
    "df['Age'].unique()"
   ]
  },
  {
   "cell_type": "code",
   "execution_count": 19,
   "id": "19d87c50",
   "metadata": {},
   "outputs": [
    {
     "data": {
      "text/plain": [
       "dtype('float64')"
      ]
     },
     "execution_count": 19,
     "metadata": {},
     "output_type": "execute_result"
    }
   ],
   "source": [
    "df['Age'].dtype"
   ]
  },
  {
   "cell_type": "code",
   "execution_count": 20,
   "id": "59d07c2b",
   "metadata": {
    "scrolled": true
   },
   "outputs": [
    {
     "data": {
      "text/html": [
       "<div>\n",
       "<style scoped>\n",
       "    .dataframe tbody tr th:only-of-type {\n",
       "        vertical-align: middle;\n",
       "    }\n",
       "\n",
       "    .dataframe tbody tr th {\n",
       "        vertical-align: top;\n",
       "    }\n",
       "\n",
       "    .dataframe thead th {\n",
       "        text-align: right;\n",
       "    }\n",
       "</style>\n",
       "<table border=\"1\" class=\"dataframe\">\n",
       "  <thead>\n",
       "    <tr style=\"text-align: right;\">\n",
       "      <th></th>\n",
       "      <th>House Number</th>\n",
       "      <th>Street</th>\n",
       "      <th>First Name</th>\n",
       "      <th>Surname</th>\n",
       "      <th>Age</th>\n",
       "      <th>Relationship to Head of House</th>\n",
       "      <th>Marital Status</th>\n",
       "      <th>Gender</th>\n",
       "      <th>Occupation</th>\n",
       "      <th>Infirmity</th>\n",
       "      <th>Religion</th>\n",
       "    </tr>\n",
       "  </thead>\n",
       "  <tbody>\n",
       "  </tbody>\n",
       "</table>\n",
       "</div>"
      ],
      "text/plain": [
       "Empty DataFrame\n",
       "Columns: [House Number, Street, First Name, Surname, Age, Relationship to Head of House, Marital Status, Gender, Occupation, Infirmity, Religion]\n",
       "Index: []"
      ]
     },
     "execution_count": 20,
     "metadata": {},
     "output_type": "execute_result"
    }
   ],
   "source": [
    "df.loc[df['Age']==' ']"
   ]
  },
  {
   "cell_type": "code",
   "execution_count": 21,
   "id": "3889e8c3",
   "metadata": {},
   "outputs": [],
   "source": [
    "df['Age']=df['Age'].astype(float)\n",
    "df['Age']=df['Age'].apply(np.floor)\n",
    "df['Age']=df['Age'].astype(int)"
   ]
  },
  {
   "cell_type": "code",
   "execution_count": 22,
   "id": "ea749cce",
   "metadata": {},
   "outputs": [
    {
     "data": {
      "text/plain": [
       "array([ 45,  41,  26,  29,  85,  25,  64,  40,  42,   2,  36,  73,  19,\n",
       "        37,  34,  33,  17,  52,  51,  55,  77,  24,   9,  59,  27,  28,\n",
       "        79,   3,  62,  57,  39,  14,  54,  30,  31,  38,  63,  83,  32,\n",
       "        22,  48,  46,  86,  81,  66,  94,  49,  20,  16,  21,  78,  47,\n",
       "        74,  76,  60,  13,  10,  65,  15,  11,   6,  12,   5,  44,  61,\n",
       "        18,  43,   7,  50,   0,  35,  23,   8,   4,  53,  58,  68,  80,\n",
       "        71,  70,  67,  91,  87,   1,  69,  75,  72,  84,  56,  90,  93,\n",
       "        82,  89,  99,  88, 105, 102, 104,  96, 101,  98, 103, 100,  95,\n",
       "        92,  97])"
      ]
     },
     "execution_count": 22,
     "metadata": {},
     "output_type": "execute_result"
    }
   ],
   "source": [
    "df['Age'].unique()"
   ]
  },
  {
   "cell_type": "code",
   "execution_count": 23,
   "id": "08f7906a",
   "metadata": {},
   "outputs": [
    {
     "data": {
      "text/plain": [
       "dtype('int32')"
      ]
     },
     "execution_count": 23,
     "metadata": {},
     "output_type": "execute_result"
    }
   ],
   "source": [
    "df['Age'].dtype"
   ]
  },
  {
   "cell_type": "code",
   "execution_count": 24,
   "id": "3bc47e25",
   "metadata": {},
   "outputs": [
    {
     "data": {
      "text/plain": [
       "array(['Head', 'Husband', 'Daughter', 'Partner', 'Son', 'Grandson',\n",
       "       'Wife', 'None', 'Cousin', 'Adopted Daughter', 'Lodger', 'Sibling',\n",
       "       'Granddaughter', 'Visitor', 'Adopted Son', 'Step-Daughter',\n",
       "       'Step-Son', ' ', 'Nephew', 'Neice', 'Adopted Grandson'],\n",
       "      dtype=object)"
      ]
     },
     "execution_count": 24,
     "metadata": {},
     "output_type": "execute_result"
    }
   ],
   "source": [
    "df['Relationship to Head of House'].unique()"
   ]
  },
  {
   "cell_type": "code",
   "execution_count": 25,
   "id": "3a809cb8",
   "metadata": {
    "scrolled": true
   },
   "outputs": [
    {
     "data": {
      "text/html": [
       "<div>\n",
       "<style scoped>\n",
       "    .dataframe tbody tr th:only-of-type {\n",
       "        vertical-align: middle;\n",
       "    }\n",
       "\n",
       "    .dataframe tbody tr th {\n",
       "        vertical-align: top;\n",
       "    }\n",
       "\n",
       "    .dataframe thead th {\n",
       "        text-align: right;\n",
       "    }\n",
       "</style>\n",
       "<table border=\"1\" class=\"dataframe\">\n",
       "  <thead>\n",
       "    <tr style=\"text-align: right;\">\n",
       "      <th></th>\n",
       "      <th>House Number</th>\n",
       "      <th>Street</th>\n",
       "      <th>First Name</th>\n",
       "      <th>Surname</th>\n",
       "      <th>Age</th>\n",
       "      <th>Relationship to Head of House</th>\n",
       "      <th>Marital Status</th>\n",
       "      <th>Gender</th>\n",
       "      <th>Occupation</th>\n",
       "      <th>Infirmity</th>\n",
       "      <th>Religion</th>\n",
       "    </tr>\n",
       "  </thead>\n",
       "  <tbody>\n",
       "    <tr>\n",
       "      <th>2860</th>\n",
       "      <td>152</td>\n",
       "      <td>Austin Divide</td>\n",
       "      <td>Lauren</td>\n",
       "      <td>Evans</td>\n",
       "      <td>30</td>\n",
       "      <td></td>\n",
       "      <td>Single</td>\n",
       "      <td>Female</td>\n",
       "      <td>Graphic designer</td>\n",
       "      <td>None</td>\n",
       "      <td>Catholic</td>\n",
       "    </tr>\n",
       "  </tbody>\n",
       "</table>\n",
       "</div>"
      ],
      "text/plain": [
       "     House Number         Street First Name Surname  Age  \\\n",
       "2860          152  Austin Divide     Lauren   Evans   30   \n",
       "\n",
       "     Relationship to Head of House Marital Status  Gender        Occupation  \\\n",
       "2860                                       Single  Female  Graphic designer   \n",
       "\n",
       "     Infirmity  Religion  \n",
       "2860      None  Catholic  "
      ]
     },
     "execution_count": 25,
     "metadata": {},
     "output_type": "execute_result"
    }
   ],
   "source": [
    "df.loc[df['Relationship to Head of House']==' ']"
   ]
  },
  {
   "cell_type": "code",
   "execution_count": 26,
   "id": "0113dda3",
   "metadata": {},
   "outputs": [],
   "source": [
    "df.at[2860, 'Relationship to Head of House']='Head'"
   ]
  },
  {
   "cell_type": "code",
   "execution_count": 27,
   "id": "e39303c2",
   "metadata": {
    "scrolled": true
   },
   "outputs": [
    {
     "data": {
      "text/plain": [
       "array(['Single', 'Divorced', 'Married', 'Widowed', nan, ' '], dtype=object)"
      ]
     },
     "execution_count": 27,
     "metadata": {},
     "output_type": "execute_result"
    }
   ],
   "source": [
    "df['Marital Status'].unique()"
   ]
  },
  {
   "cell_type": "code",
   "execution_count": 28,
   "id": "0087916a",
   "metadata": {
    "scrolled": true
   },
   "outputs": [
    {
     "data": {
      "text/html": [
       "<div>\n",
       "<style scoped>\n",
       "    .dataframe tbody tr th:only-of-type {\n",
       "        vertical-align: middle;\n",
       "    }\n",
       "\n",
       "    .dataframe tbody tr th {\n",
       "        vertical-align: top;\n",
       "    }\n",
       "\n",
       "    .dataframe thead th {\n",
       "        text-align: right;\n",
       "    }\n",
       "</style>\n",
       "<table border=\"1\" class=\"dataframe\">\n",
       "  <thead>\n",
       "    <tr style=\"text-align: right;\">\n",
       "      <th></th>\n",
       "      <th>House Number</th>\n",
       "      <th>Street</th>\n",
       "      <th>First Name</th>\n",
       "      <th>Surname</th>\n",
       "      <th>Age</th>\n",
       "      <th>Relationship to Head of House</th>\n",
       "      <th>Marital Status</th>\n",
       "      <th>Gender</th>\n",
       "      <th>Occupation</th>\n",
       "      <th>Infirmity</th>\n",
       "      <th>Religion</th>\n",
       "    </tr>\n",
       "  </thead>\n",
       "  <tbody>\n",
       "    <tr>\n",
       "      <th>498</th>\n",
       "      <td>68</td>\n",
       "      <td>Moore Roads</td>\n",
       "      <td>Cameron</td>\n",
       "      <td>Lee</td>\n",
       "      <td>3</td>\n",
       "      <td>Son</td>\n",
       "      <td></td>\n",
       "      <td>Male</td>\n",
       "      <td>Child</td>\n",
       "      <td>None</td>\n",
       "      <td>NaN</td>\n",
       "    </tr>\n",
       "    <tr>\n",
       "      <th>1457</th>\n",
       "      <td>16</td>\n",
       "      <td>Pinewood Expressway</td>\n",
       "      <td>Mathew</td>\n",
       "      <td>Ferguson</td>\n",
       "      <td>16</td>\n",
       "      <td>Son</td>\n",
       "      <td></td>\n",
       "      <td>Male</td>\n",
       "      <td>Student</td>\n",
       "      <td>None</td>\n",
       "      <td>NaN</td>\n",
       "    </tr>\n",
       "    <tr>\n",
       "      <th>3069</th>\n",
       "      <td>15</td>\n",
       "      <td>Patterson Hollow</td>\n",
       "      <td>Jennifer</td>\n",
       "      <td>Harris-Hopkins</td>\n",
       "      <td>11</td>\n",
       "      <td>Daughter</td>\n",
       "      <td></td>\n",
       "      <td>Female</td>\n",
       "      <td>Student</td>\n",
       "      <td>None</td>\n",
       "      <td>NaN</td>\n",
       "    </tr>\n",
       "    <tr>\n",
       "      <th>8476</th>\n",
       "      <td>3</td>\n",
       "      <td>Libra Street</td>\n",
       "      <td>Georgina</td>\n",
       "      <td>Dennis</td>\n",
       "      <td>67</td>\n",
       "      <td>Wife</td>\n",
       "      <td></td>\n",
       "      <td>Female</td>\n",
       "      <td>Electrical engineer</td>\n",
       "      <td>None</td>\n",
       "      <td>None</td>\n",
       "    </tr>\n",
       "  </tbody>\n",
       "</table>\n",
       "</div>"
      ],
      "text/plain": [
       "     House Number               Street First Name         Surname  Age  \\\n",
       "498            68          Moore Roads    Cameron             Lee    3   \n",
       "1457           16  Pinewood Expressway     Mathew        Ferguson   16   \n",
       "3069           15     Patterson Hollow   Jennifer  Harris-Hopkins   11   \n",
       "8476            3         Libra Street   Georgina          Dennis   67   \n",
       "\n",
       "     Relationship to Head of House Marital Status  Gender  \\\n",
       "498                            Son                   Male   \n",
       "1457                           Son                   Male   \n",
       "3069                      Daughter                 Female   \n",
       "8476                          Wife                 Female   \n",
       "\n",
       "               Occupation Infirmity Religion  \n",
       "498                 Child      None      NaN  \n",
       "1457              Student      None      NaN  \n",
       "3069              Student      None      NaN  \n",
       "8476  Electrical engineer      None     None  "
      ]
     },
     "execution_count": 28,
     "metadata": {},
     "output_type": "execute_result"
    }
   ],
   "source": [
    "df.loc[df['Marital Status']==' ']"
   ]
  },
  {
   "cell_type": "code",
   "execution_count": 29,
   "id": "f5d73744",
   "metadata": {},
   "outputs": [],
   "source": [
    "df.at[498, 'Marital Status']='Single'\n",
    "df.at[1457, 'Marital Status']='Single'\n",
    "df.at[3069, 'Marital Status']='Single'\n",
    "df.at[8476, 'Marital Status']='Married'\n",
    "df['Marital Status'].fillna('Unknown', inplace=True)"
   ]
  },
  {
   "cell_type": "code",
   "execution_count": 30,
   "id": "398b0991",
   "metadata": {},
   "outputs": [
    {
     "data": {
      "text/plain": [
       "array(['Male', 'Female', ' ', 'Fem'], dtype=object)"
      ]
     },
     "execution_count": 30,
     "metadata": {},
     "output_type": "execute_result"
    }
   ],
   "source": [
    "df['Gender'].unique()"
   ]
  },
  {
   "cell_type": "code",
   "execution_count": 31,
   "id": "799c9c56",
   "metadata": {},
   "outputs": [],
   "source": [
    "df['Gender'].replace('Fem','Female',inplace=True)"
   ]
  },
  {
   "cell_type": "code",
   "execution_count": 32,
   "id": "c7f47bca",
   "metadata": {},
   "outputs": [
    {
     "data": {
      "text/html": [
       "<div>\n",
       "<style scoped>\n",
       "    .dataframe tbody tr th:only-of-type {\n",
       "        vertical-align: middle;\n",
       "    }\n",
       "\n",
       "    .dataframe tbody tr th {\n",
       "        vertical-align: top;\n",
       "    }\n",
       "\n",
       "    .dataframe thead th {\n",
       "        text-align: right;\n",
       "    }\n",
       "</style>\n",
       "<table border=\"1\" class=\"dataframe\">\n",
       "  <thead>\n",
       "    <tr style=\"text-align: right;\">\n",
       "      <th></th>\n",
       "      <th>House Number</th>\n",
       "      <th>Street</th>\n",
       "      <th>First Name</th>\n",
       "      <th>Surname</th>\n",
       "      <th>Age</th>\n",
       "      <th>Relationship to Head of House</th>\n",
       "      <th>Marital Status</th>\n",
       "      <th>Gender</th>\n",
       "      <th>Occupation</th>\n",
       "      <th>Infirmity</th>\n",
       "      <th>Religion</th>\n",
       "    </tr>\n",
       "  </thead>\n",
       "  <tbody>\n",
       "    <tr>\n",
       "      <th>322</th>\n",
       "      <td>44</td>\n",
       "      <td>Moore Roads</td>\n",
       "      <td>Amanda</td>\n",
       "      <td>Bradley</td>\n",
       "      <td>27</td>\n",
       "      <td>Daughter</td>\n",
       "      <td>Single</td>\n",
       "      <td></td>\n",
       "      <td>Scientist, product/process development</td>\n",
       "      <td>None</td>\n",
       "      <td>None</td>\n",
       "    </tr>\n",
       "    <tr>\n",
       "      <th>6134</th>\n",
       "      <td>1</td>\n",
       "      <td>Hope River</td>\n",
       "      <td>Jean</td>\n",
       "      <td>O'Neill</td>\n",
       "      <td>15</td>\n",
       "      <td>Daughter</td>\n",
       "      <td>Unknown</td>\n",
       "      <td></td>\n",
       "      <td>Student</td>\n",
       "      <td></td>\n",
       "      <td>NaN</td>\n",
       "    </tr>\n",
       "    <tr>\n",
       "      <th>10106</th>\n",
       "      <td>1</td>\n",
       "      <td>Tomlinson Rocks</td>\n",
       "      <td>Abigail</td>\n",
       "      <td>Hopkins</td>\n",
       "      <td>31</td>\n",
       "      <td>Head</td>\n",
       "      <td>Single</td>\n",
       "      <td></td>\n",
       "      <td>Animator</td>\n",
       "      <td>None</td>\n",
       "      <td>Sikh</td>\n",
       "    </tr>\n",
       "  </tbody>\n",
       "</table>\n",
       "</div>"
      ],
      "text/plain": [
       "      House Number           Street First Name  Surname  Age  \\\n",
       "322             44      Moore Roads     Amanda  Bradley   27   \n",
       "6134             1       Hope River       Jean  O'Neill   15   \n",
       "10106            1  Tomlinson Rocks    Abigail  Hopkins   31   \n",
       "\n",
       "      Relationship to Head of House Marital Status Gender  \\\n",
       "322                        Daughter         Single          \n",
       "6134                       Daughter        Unknown          \n",
       "10106                          Head         Single          \n",
       "\n",
       "                                   Occupation Infirmity Religion  \n",
       "322    Scientist, product/process development      None     None  \n",
       "6134                                  Student                NaN  \n",
       "10106                                Animator      None     Sikh  "
      ]
     },
     "execution_count": 32,
     "metadata": {},
     "output_type": "execute_result"
    }
   ],
   "source": [
    "df.loc[df['Gender']==' ']"
   ]
  },
  {
   "cell_type": "code",
   "execution_count": 33,
   "id": "f9ee476b",
   "metadata": {},
   "outputs": [],
   "source": [
    "df.at[322, 'Gender']='Female'\n",
    "df.at[6134, 'Gender']='Female'\n",
    "df.at[10106, 'Gender']='Female'"
   ]
  },
  {
   "cell_type": "code",
   "execution_count": 34,
   "id": "d5b937ae",
   "metadata": {},
   "outputs": [
    {
     "data": {
      "text/plain": [
       "array(['Male', 'Female'], dtype=object)"
      ]
     },
     "execution_count": 34,
     "metadata": {},
     "output_type": "execute_result"
    }
   ],
   "source": [
    "df['Gender'].unique()"
   ]
  },
  {
   "cell_type": "code",
   "execution_count": 35,
   "id": "aec1b957",
   "metadata": {},
   "outputs": [
    {
     "data": {
      "text/plain": [
       "array(['Unemployed', 'Youth worker', 'Accommodation manager', ...,\n",
       "       'Retired Civil engineer, consulting', 'Retired Pathologist',\n",
       "       'Studen'], dtype=object)"
      ]
     },
     "execution_count": 35,
     "metadata": {},
     "output_type": "execute_result"
    }
   ],
   "source": [
    "df['Occupation'].unique()"
   ]
  },
  {
   "cell_type": "code",
   "execution_count": 36,
   "id": "04a81ca0",
   "metadata": {},
   "outputs": [],
   "source": [
    "df['Retired']=df['Occupation'].apply(lambda x:x.split(',')[0])"
   ]
  },
  {
   "cell_type": "code",
   "execution_count": 37,
   "id": "10ea9673",
   "metadata": {},
   "outputs": [
    {
     "data": {
      "text/html": [
       "<div>\n",
       "<style scoped>\n",
       "    .dataframe tbody tr th:only-of-type {\n",
       "        vertical-align: middle;\n",
       "    }\n",
       "\n",
       "    .dataframe tbody tr th {\n",
       "        vertical-align: top;\n",
       "    }\n",
       "\n",
       "    .dataframe thead th {\n",
       "        text-align: right;\n",
       "    }\n",
       "</style>\n",
       "<table border=\"1\" class=\"dataframe\">\n",
       "  <thead>\n",
       "    <tr style=\"text-align: right;\">\n",
       "      <th></th>\n",
       "      <th>House Number</th>\n",
       "      <th>Street</th>\n",
       "      <th>First Name</th>\n",
       "      <th>Surname</th>\n",
       "      <th>Age</th>\n",
       "      <th>Relationship to Head of House</th>\n",
       "      <th>Marital Status</th>\n",
       "      <th>Gender</th>\n",
       "      <th>Occupation</th>\n",
       "      <th>Infirmity</th>\n",
       "      <th>Religion</th>\n",
       "      <th>Retired</th>\n",
       "    </tr>\n",
       "  </thead>\n",
       "  <tbody>\n",
       "  </tbody>\n",
       "</table>\n",
       "</div>"
      ],
      "text/plain": [
       "Empty DataFrame\n",
       "Columns: [House Number, Street, First Name, Surname, Age, Relationship to Head of House, Marital Status, Gender, Occupation, Infirmity, Religion, Retired]\n",
       "Index: []"
      ]
     },
     "execution_count": 37,
     "metadata": {},
     "output_type": "execute_result"
    }
   ],
   "source": [
    "df[df['Retired']=='Retired']"
   ]
  },
  {
   "cell_type": "code",
   "execution_count": 38,
   "id": "6e2cf608",
   "metadata": {},
   "outputs": [],
   "source": [
    "df['Occupation'].replace('Studen','Student',inplace=True)"
   ]
  },
  {
   "cell_type": "code",
   "execution_count": 39,
   "id": "70d529cc",
   "metadata": {},
   "outputs": [
    {
     "data": {
      "text/plain": [
       "array(['None', ' ', 'Deaf', 'Disabled', 'Unknown Infection',\n",
       "       'Physical Disability', 'Blind', 'Mental Disability'], dtype=object)"
      ]
     },
     "execution_count": 39,
     "metadata": {},
     "output_type": "execute_result"
    }
   ],
   "source": [
    "df['Infirmity'].unique()"
   ]
  },
  {
   "cell_type": "code",
   "execution_count": 40,
   "id": "3f8da26f",
   "metadata": {},
   "outputs": [
    {
     "data": {
      "text/html": [
       "<div>\n",
       "<style scoped>\n",
       "    .dataframe tbody tr th:only-of-type {\n",
       "        vertical-align: middle;\n",
       "    }\n",
       "\n",
       "    .dataframe tbody tr th {\n",
       "        vertical-align: top;\n",
       "    }\n",
       "\n",
       "    .dataframe thead th {\n",
       "        text-align: right;\n",
       "    }\n",
       "</style>\n",
       "<table border=\"1\" class=\"dataframe\">\n",
       "  <thead>\n",
       "    <tr style=\"text-align: right;\">\n",
       "      <th></th>\n",
       "      <th>House Number</th>\n",
       "      <th>Street</th>\n",
       "      <th>First Name</th>\n",
       "      <th>Surname</th>\n",
       "      <th>Age</th>\n",
       "      <th>Relationship to Head of House</th>\n",
       "      <th>Marital Status</th>\n",
       "      <th>Gender</th>\n",
       "      <th>Occupation</th>\n",
       "      <th>Infirmity</th>\n",
       "      <th>Religion</th>\n",
       "      <th>Retired</th>\n",
       "    </tr>\n",
       "  </thead>\n",
       "  <tbody>\n",
       "    <tr>\n",
       "      <th>320</th>\n",
       "      <td>44</td>\n",
       "      <td>Moore Roads</td>\n",
       "      <td>Teresa</td>\n",
       "      <td>Bradley</td>\n",
       "      <td>31</td>\n",
       "      <td>Daughter</td>\n",
       "      <td>Divorced</td>\n",
       "      <td>Female</td>\n",
       "      <td>Animal nutritionist</td>\n",
       "      <td></td>\n",
       "      <td>Christian</td>\n",
       "      <td>Animal nutritionist</td>\n",
       "    </tr>\n",
       "    <tr>\n",
       "      <th>645</th>\n",
       "      <td>89</td>\n",
       "      <td>Moore Roads</td>\n",
       "      <td>Mandy</td>\n",
       "      <td>Davies-Walker</td>\n",
       "      <td>9</td>\n",
       "      <td>Daughter</td>\n",
       "      <td>Unknown</td>\n",
       "      <td>Female</td>\n",
       "      <td>Student</td>\n",
       "      <td></td>\n",
       "      <td>NaN</td>\n",
       "      <td>Student</td>\n",
       "    </tr>\n",
       "    <tr>\n",
       "      <th>1820</th>\n",
       "      <td>12</td>\n",
       "      <td>Clark Island</td>\n",
       "      <td>Valerie</td>\n",
       "      <td>Hamilton</td>\n",
       "      <td>41</td>\n",
       "      <td>Head</td>\n",
       "      <td>Married</td>\n",
       "      <td>Female</td>\n",
       "      <td>Therapist, music</td>\n",
       "      <td></td>\n",
       "      <td>Catholic</td>\n",
       "      <td>Therapist</td>\n",
       "    </tr>\n",
       "    <tr>\n",
       "      <th>2636</th>\n",
       "      <td>7</td>\n",
       "      <td>Austin Divide</td>\n",
       "      <td>Andrew</td>\n",
       "      <td>Davies-Higgins</td>\n",
       "      <td>49</td>\n",
       "      <td>Head</td>\n",
       "      <td>Married</td>\n",
       "      <td>Male</td>\n",
       "      <td>Tree surgeon</td>\n",
       "      <td></td>\n",
       "      <td>None</td>\n",
       "      <td>Tree surgeon</td>\n",
       "    </tr>\n",
       "    <tr>\n",
       "      <th>4027</th>\n",
       "      <td>16</td>\n",
       "      <td>Coventry Drive</td>\n",
       "      <td>Suzanne</td>\n",
       "      <td>Young</td>\n",
       "      <td>64</td>\n",
       "      <td>Head</td>\n",
       "      <td>Married</td>\n",
       "      <td>Female</td>\n",
       "      <td>Research scientist (physical sciences)</td>\n",
       "      <td></td>\n",
       "      <td>Christian</td>\n",
       "      <td>Research scientist (physical sciences)</td>\n",
       "    </tr>\n",
       "    <tr>\n",
       "      <th>4678</th>\n",
       "      <td>2</td>\n",
       "      <td>Ross Avenue</td>\n",
       "      <td>Louis</td>\n",
       "      <td>Singh</td>\n",
       "      <td>49</td>\n",
       "      <td>Husband</td>\n",
       "      <td>Married</td>\n",
       "      <td>Male</td>\n",
       "      <td>Unemployed</td>\n",
       "      <td></td>\n",
       "      <td>None</td>\n",
       "      <td>Unemployed</td>\n",
       "    </tr>\n",
       "    <tr>\n",
       "      <th>6134</th>\n",
       "      <td>1</td>\n",
       "      <td>Hope River</td>\n",
       "      <td>Jean</td>\n",
       "      <td>O'Neill</td>\n",
       "      <td>15</td>\n",
       "      <td>Daughter</td>\n",
       "      <td>Unknown</td>\n",
       "      <td>Female</td>\n",
       "      <td>Student</td>\n",
       "      <td></td>\n",
       "      <td>NaN</td>\n",
       "      <td>Student</td>\n",
       "    </tr>\n",
       "    <tr>\n",
       "      <th>6453</th>\n",
       "      <td>40</td>\n",
       "      <td>Exeter Corner</td>\n",
       "      <td>Georgina</td>\n",
       "      <td>Thompson</td>\n",
       "      <td>66</td>\n",
       "      <td>Wife</td>\n",
       "      <td>Married</td>\n",
       "      <td>Female</td>\n",
       "      <td>Mudlogger</td>\n",
       "      <td></td>\n",
       "      <td>Catholic</td>\n",
       "      <td>Mudlogger</td>\n",
       "    </tr>\n",
       "    <tr>\n",
       "      <th>6474</th>\n",
       "      <td>48</td>\n",
       "      <td>Exeter Corner</td>\n",
       "      <td>Alexandra</td>\n",
       "      <td>Whitehead</td>\n",
       "      <td>52</td>\n",
       "      <td>Wife</td>\n",
       "      <td>Married</td>\n",
       "      <td>Female</td>\n",
       "      <td>Cytogeneticist</td>\n",
       "      <td></td>\n",
       "      <td>Catholic</td>\n",
       "      <td>Cytogeneticist</td>\n",
       "    </tr>\n",
       "    <tr>\n",
       "      <th>6753</th>\n",
       "      <td>77</td>\n",
       "      <td>Stone Center</td>\n",
       "      <td>Maria</td>\n",
       "      <td>King</td>\n",
       "      <td>71</td>\n",
       "      <td>Head</td>\n",
       "      <td>Married</td>\n",
       "      <td>Female</td>\n",
       "      <td>Retired Freight forwarder</td>\n",
       "      <td></td>\n",
       "      <td>Christian</td>\n",
       "      <td>Retired Freight forwarder</td>\n",
       "    </tr>\n",
       "    <tr>\n",
       "      <th>8629</th>\n",
       "      <td>25</td>\n",
       "      <td>Plymouth Stream</td>\n",
       "      <td>Jean</td>\n",
       "      <td>Kaur</td>\n",
       "      <td>54</td>\n",
       "      <td>Head</td>\n",
       "      <td>Married</td>\n",
       "      <td>Female</td>\n",
       "      <td>Air broker</td>\n",
       "      <td></td>\n",
       "      <td>Methodist</td>\n",
       "      <td>Air broker</td>\n",
       "    </tr>\n",
       "    <tr>\n",
       "      <th>9060</th>\n",
       "      <td>6</td>\n",
       "      <td>Holland Drive</td>\n",
       "      <td>Louise</td>\n",
       "      <td>Farmer</td>\n",
       "      <td>62</td>\n",
       "      <td>Wife</td>\n",
       "      <td>Married</td>\n",
       "      <td>Female</td>\n",
       "      <td>Investment banker, operational</td>\n",
       "      <td></td>\n",
       "      <td>Muslim</td>\n",
       "      <td>Investment banker</td>\n",
       "    </tr>\n",
       "    <tr>\n",
       "      <th>9376</th>\n",
       "      <td>3</td>\n",
       "      <td>Davies Ports</td>\n",
       "      <td>Frances</td>\n",
       "      <td>Day</td>\n",
       "      <td>47</td>\n",
       "      <td>Wife</td>\n",
       "      <td>Married</td>\n",
       "      <td>Female</td>\n",
       "      <td>Geneticist, molecular</td>\n",
       "      <td></td>\n",
       "      <td>None</td>\n",
       "      <td>Geneticist</td>\n",
       "    </tr>\n",
       "  </tbody>\n",
       "</table>\n",
       "</div>"
      ],
      "text/plain": [
       "     House Number           Street First Name         Surname  Age  \\\n",
       "320            44      Moore Roads     Teresa         Bradley   31   \n",
       "645            89      Moore Roads      Mandy   Davies-Walker    9   \n",
       "1820           12     Clark Island    Valerie        Hamilton   41   \n",
       "2636            7    Austin Divide     Andrew  Davies-Higgins   49   \n",
       "4027           16   Coventry Drive    Suzanne           Young   64   \n",
       "4678            2      Ross Avenue      Louis           Singh   49   \n",
       "6134            1       Hope River       Jean         O'Neill   15   \n",
       "6453           40    Exeter Corner   Georgina        Thompson   66   \n",
       "6474           48    Exeter Corner  Alexandra       Whitehead   52   \n",
       "6753           77     Stone Center      Maria            King   71   \n",
       "8629           25  Plymouth Stream       Jean            Kaur   54   \n",
       "9060            6    Holland Drive     Louise          Farmer   62   \n",
       "9376            3     Davies Ports    Frances             Day   47   \n",
       "\n",
       "     Relationship to Head of House Marital Status  Gender  \\\n",
       "320                       Daughter       Divorced  Female   \n",
       "645                       Daughter        Unknown  Female   \n",
       "1820                          Head        Married  Female   \n",
       "2636                          Head        Married    Male   \n",
       "4027                          Head        Married  Female   \n",
       "4678                       Husband        Married    Male   \n",
       "6134                      Daughter        Unknown  Female   \n",
       "6453                          Wife        Married  Female   \n",
       "6474                          Wife        Married  Female   \n",
       "6753                          Head        Married  Female   \n",
       "8629                          Head        Married  Female   \n",
       "9060                          Wife        Married  Female   \n",
       "9376                          Wife        Married  Female   \n",
       "\n",
       "                                  Occupation Infirmity   Religion  \\\n",
       "320                      Animal nutritionist            Christian   \n",
       "645                                  Student                  NaN   \n",
       "1820                        Therapist, music             Catholic   \n",
       "2636                            Tree surgeon                 None   \n",
       "4027  Research scientist (physical sciences)            Christian   \n",
       "4678                              Unemployed                 None   \n",
       "6134                                 Student                  NaN   \n",
       "6453                               Mudlogger             Catholic   \n",
       "6474                          Cytogeneticist             Catholic   \n",
       "6753               Retired Freight forwarder            Christian   \n",
       "8629                              Air broker            Methodist   \n",
       "9060          Investment banker, operational               Muslim   \n",
       "9376                   Geneticist, molecular                 None   \n",
       "\n",
       "                                     Retired  \n",
       "320                      Animal nutritionist  \n",
       "645                                  Student  \n",
       "1820                               Therapist  \n",
       "2636                            Tree surgeon  \n",
       "4027  Research scientist (physical sciences)  \n",
       "4678                              Unemployed  \n",
       "6134                                 Student  \n",
       "6453                               Mudlogger  \n",
       "6474                          Cytogeneticist  \n",
       "6753               Retired Freight forwarder  \n",
       "8629                              Air broker  \n",
       "9060                       Investment banker  \n",
       "9376                              Geneticist  "
      ]
     },
     "execution_count": 40,
     "metadata": {},
     "output_type": "execute_result"
    }
   ],
   "source": [
    "df.loc[df['Infirmity']==' ']"
   ]
  },
  {
   "cell_type": "code",
   "execution_count": 41,
   "id": "b6be98ec",
   "metadata": {},
   "outputs": [],
   "source": [
    "df['Infirmity'].replace(' ', 'None', inplace=True)"
   ]
  },
  {
   "cell_type": "code",
   "execution_count": 42,
   "id": "53dcc9c5",
   "metadata": {},
   "outputs": [],
   "source": [
    "df.at[320, 'Infirmity']='None'\n",
    "df.at[645, 'Infirmity']='None'\n",
    "df.at[1820, 'Infirmity']='None'\n",
    "df.at[2636, 'Infirmity']='None'\n",
    "df.at[4027, 'Infirmity']='None'\n",
    "df.at[4678, 'Infirmity']='None'\n",
    "df.at[6134, 'Infirmity']='None'\n",
    "df.at[6453, 'Infirmity']='None'\n",
    "df.at[6474, 'Infirmity']='None'\n",
    "df.at[6753, 'Infirmity']='None'\n",
    "df.at[8629, 'Infirmity']='None'\n",
    "df.at[9060, 'Infirmity']='None'\n",
    "df.at[9376, 'Infirmity']='None'"
   ]
  },
  {
   "cell_type": "code",
   "execution_count": 43,
   "id": "226d6d14",
   "metadata": {},
   "outputs": [
    {
     "data": {
      "text/plain": [
       "array(['Christian', 'None', 'Muslim', ' ', 'Catholic', nan, 'Methodist',\n",
       "       'Jewish', 'Sikh', 'Baptist', 'Buddist', 'Bahai', 'Quaker',\n",
       "       'Orthodoxy', 'Undecided', 'Private', 'Cath0lic', 'Christ'],\n",
       "      dtype=object)"
      ]
     },
     "execution_count": 43,
     "metadata": {},
     "output_type": "execute_result"
    }
   ],
   "source": [
    "df['Religion'].unique()"
   ]
  },
  {
   "cell_type": "code",
   "execution_count": 44,
   "id": "f34179d8",
   "metadata": {},
   "outputs": [],
   "source": [
    "df['Religion'].replace('Cath0lic','Catholic',inplace=True)\n",
    "df['Religion'].replace('Christ','Christian',inplace=True)\n",
    "df['Religion'].replace('Undecided','None',inplace=True)\n",
    "df['Religion'].replace(' ','Unkwown',inplace=True)\n",
    "df['Religion'].replace('Private','Unkwown',inplace=True)\n",
    "df['Religion'].fillna('Unkwown',inplace=True)"
   ]
  },
  {
   "cell_type": "code",
   "execution_count": 45,
   "id": "9849caad",
   "metadata": {},
   "outputs": [
    {
     "data": {
      "text/plain": [
       "array(['Christian', 'None', 'Muslim', 'Unkwown', 'Catholic', 'Methodist',\n",
       "       'Jewish', 'Sikh', 'Baptist', 'Buddist', 'Bahai', 'Quaker',\n",
       "       'Orthodoxy'], dtype=object)"
      ]
     },
     "execution_count": 45,
     "metadata": {},
     "output_type": "execute_result"
    }
   ],
   "source": [
    "df['Religion'].unique()"
   ]
  },
  {
   "cell_type": "code",
   "execution_count": 46,
   "id": "5b5f0456",
   "metadata": {},
   "outputs": [
    {
     "data": {
      "text/html": [
       "<div>\n",
       "<style scoped>\n",
       "    .dataframe tbody tr th:only-of-type {\n",
       "        vertical-align: middle;\n",
       "    }\n",
       "\n",
       "    .dataframe tbody tr th {\n",
       "        vertical-align: top;\n",
       "    }\n",
       "\n",
       "    .dataframe thead th {\n",
       "        text-align: right;\n",
       "    }\n",
       "</style>\n",
       "<table border=\"1\" class=\"dataframe\">\n",
       "  <thead>\n",
       "    <tr style=\"text-align: right;\">\n",
       "      <th></th>\n",
       "      <th>House Number</th>\n",
       "      <th>Street</th>\n",
       "      <th>First Name</th>\n",
       "      <th>Surname</th>\n",
       "      <th>Age</th>\n",
       "      <th>Relationship to Head of House</th>\n",
       "      <th>Marital Status</th>\n",
       "      <th>Gender</th>\n",
       "      <th>Occupation</th>\n",
       "      <th>Infirmity</th>\n",
       "      <th>Religion</th>\n",
       "      <th>Retired</th>\n",
       "    </tr>\n",
       "  </thead>\n",
       "  <tbody>\n",
       "  </tbody>\n",
       "</table>\n",
       "</div>"
      ],
      "text/plain": [
       "Empty DataFrame\n",
       "Columns: [House Number, Street, First Name, Surname, Age, Relationship to Head of House, Marital Status, Gender, Occupation, Infirmity, Religion, Retired]\n",
       "Index: []"
      ]
     },
     "execution_count": 46,
     "metadata": {},
     "output_type": "execute_result"
    }
   ],
   "source": [
    "df.loc[df['Religion']==' ']"
   ]
  },
  {
   "cell_type": "code",
   "execution_count": 47,
   "id": "7aa49993",
   "metadata": {},
   "outputs": [],
   "source": [
    "df.at[7, 'Religion']='Catholic'\n",
    "df.at[1699, 'Religion']='Catholic'\n",
    "df.at[1884, 'Religion']='Catholic'\n",
    "df.at[4690, 'Religion']='Christian'\n",
    "df.at[8145, 'Religion']='Christian'"
   ]
  },
  {
   "cell_type": "code",
   "execution_count": 48,
   "id": "edd940b4",
   "metadata": {},
   "outputs": [
    {
     "data": {
      "text/html": [
       "<div>\n",
       "<style scoped>\n",
       "    .dataframe tbody tr th:only-of-type {\n",
       "        vertical-align: middle;\n",
       "    }\n",
       "\n",
       "    .dataframe tbody tr th {\n",
       "        vertical-align: top;\n",
       "    }\n",
       "\n",
       "    .dataframe thead th {\n",
       "        text-align: right;\n",
       "    }\n",
       "</style>\n",
       "<table border=\"1\" class=\"dataframe\">\n",
       "  <thead>\n",
       "    <tr style=\"text-align: right;\">\n",
       "      <th></th>\n",
       "      <th>House Number</th>\n",
       "      <th>Street</th>\n",
       "      <th>First Name</th>\n",
       "      <th>Surname</th>\n",
       "      <th>Age</th>\n",
       "      <th>Relationship to Head of House</th>\n",
       "      <th>Marital Status</th>\n",
       "      <th>Gender</th>\n",
       "      <th>Occupation</th>\n",
       "      <th>Infirmity</th>\n",
       "      <th>Religion</th>\n",
       "      <th>Retired</th>\n",
       "    </tr>\n",
       "  </thead>\n",
       "  <tbody>\n",
       "    <tr>\n",
       "      <th>4</th>\n",
       "      <td>4</td>\n",
       "      <td>Breakfast Drive</td>\n",
       "      <td>Barbara</td>\n",
       "      <td>Pugh</td>\n",
       "      <td>85</td>\n",
       "      <td>Head</td>\n",
       "      <td>Widowed</td>\n",
       "      <td>Female</td>\n",
       "      <td>Retired Airline pilot</td>\n",
       "      <td>None</td>\n",
       "      <td>None</td>\n",
       "      <td>Retired Airline pilot</td>\n",
       "    </tr>\n",
       "    <tr>\n",
       "      <th>5</th>\n",
       "      <td>5</td>\n",
       "      <td>Breakfast Drive</td>\n",
       "      <td>Sandra</td>\n",
       "      <td>Baker</td>\n",
       "      <td>25</td>\n",
       "      <td>Head</td>\n",
       "      <td>Single</td>\n",
       "      <td>Female</td>\n",
       "      <td>Systems analyst</td>\n",
       "      <td>None</td>\n",
       "      <td>None</td>\n",
       "      <td>Systems analyst</td>\n",
       "    </tr>\n",
       "    <tr>\n",
       "      <th>6</th>\n",
       "      <td>6</td>\n",
       "      <td>Breakfast Drive</td>\n",
       "      <td>Mandy</td>\n",
       "      <td>Turner</td>\n",
       "      <td>64</td>\n",
       "      <td>Head</td>\n",
       "      <td>Divorced</td>\n",
       "      <td>Female</td>\n",
       "      <td>Waste management officer</td>\n",
       "      <td>None</td>\n",
       "      <td>Christian</td>\n",
       "      <td>Waste management officer</td>\n",
       "    </tr>\n",
       "    <tr>\n",
       "      <th>7</th>\n",
       "      <td>7</td>\n",
       "      <td>Breakfast Drive</td>\n",
       "      <td>Kathryn</td>\n",
       "      <td>Greenwood</td>\n",
       "      <td>40</td>\n",
       "      <td>Head</td>\n",
       "      <td>Married</td>\n",
       "      <td>Female</td>\n",
       "      <td>Presenter, broadcasting</td>\n",
       "      <td>None</td>\n",
       "      <td>Catholic</td>\n",
       "      <td>Presenter</td>\n",
       "    </tr>\n",
       "    <tr>\n",
       "      <th>8</th>\n",
       "      <td>7</td>\n",
       "      <td>Breakfast Drive</td>\n",
       "      <td>Steven</td>\n",
       "      <td>Greenwood</td>\n",
       "      <td>42</td>\n",
       "      <td>Husband</td>\n",
       "      <td>Married</td>\n",
       "      <td>Male</td>\n",
       "      <td>Radiation protection practitioner</td>\n",
       "      <td>None</td>\n",
       "      <td>Catholic</td>\n",
       "      <td>Radiation protection practitioner</td>\n",
       "    </tr>\n",
       "    <tr>\n",
       "      <th>9</th>\n",
       "      <td>7</td>\n",
       "      <td>Breakfast Drive</td>\n",
       "      <td>Catherine</td>\n",
       "      <td>Greenwood</td>\n",
       "      <td>2</td>\n",
       "      <td>Daughter</td>\n",
       "      <td>Unknown</td>\n",
       "      <td>Female</td>\n",
       "      <td>Child</td>\n",
       "      <td>None</td>\n",
       "      <td>Unkwown</td>\n",
       "      <td>Child</td>\n",
       "    </tr>\n",
       "    <tr>\n",
       "      <th>10</th>\n",
       "      <td>8</td>\n",
       "      <td>Breakfast Drive</td>\n",
       "      <td>Chelsea</td>\n",
       "      <td>Black</td>\n",
       "      <td>36</td>\n",
       "      <td>Head</td>\n",
       "      <td>Single</td>\n",
       "      <td>Female</td>\n",
       "      <td>Engineer, electrical</td>\n",
       "      <td>None</td>\n",
       "      <td>Christian</td>\n",
       "      <td>Engineer</td>\n",
       "    </tr>\n",
       "  </tbody>\n",
       "</table>\n",
       "</div>"
      ],
      "text/plain": [
       "   House Number           Street First Name    Surname  Age  \\\n",
       "4             4  Breakfast Drive    Barbara       Pugh   85   \n",
       "5             5  Breakfast Drive     Sandra      Baker   25   \n",
       "6             6  Breakfast Drive      Mandy     Turner   64   \n",
       "7             7  Breakfast Drive    Kathryn  Greenwood   40   \n",
       "8             7  Breakfast Drive     Steven  Greenwood   42   \n",
       "9             7  Breakfast Drive  Catherine  Greenwood    2   \n",
       "10            8  Breakfast Drive    Chelsea      Black   36   \n",
       "\n",
       "   Relationship to Head of House Marital Status  Gender  \\\n",
       "4                           Head        Widowed  Female   \n",
       "5                           Head         Single  Female   \n",
       "6                           Head       Divorced  Female   \n",
       "7                           Head        Married  Female   \n",
       "8                        Husband        Married    Male   \n",
       "9                       Daughter        Unknown  Female   \n",
       "10                          Head         Single  Female   \n",
       "\n",
       "                           Occupation Infirmity   Religion  \\\n",
       "4               Retired Airline pilot      None       None   \n",
       "5                     Systems analyst      None       None   \n",
       "6            Waste management officer      None  Christian   \n",
       "7             Presenter, broadcasting      None   Catholic   \n",
       "8   Radiation protection practitioner      None   Catholic   \n",
       "9                               Child      None    Unkwown   \n",
       "10               Engineer, electrical      None  Christian   \n",
       "\n",
       "                              Retired  \n",
       "4               Retired Airline pilot  \n",
       "5                     Systems analyst  \n",
       "6            Waste management officer  \n",
       "7                           Presenter  \n",
       "8   Radiation protection practitioner  \n",
       "9                               Child  \n",
       "10                           Engineer  "
      ]
     },
     "execution_count": 48,
     "metadata": {},
     "output_type": "execute_result"
    }
   ],
   "source": [
    "df.loc[4:10]"
   ]
  },
  {
   "cell_type": "code",
   "execution_count": 49,
   "id": "b26cad5e",
   "metadata": {},
   "outputs": [
    {
     "data": {
      "text/plain": [
       "Index(['House Number', 'Street', 'First Name', 'Surname', 'Age',\n",
       "       'Relationship to Head of House', 'Marital Status', 'Gender',\n",
       "       'Occupation', 'Infirmity', 'Religion', 'Retired'],\n",
       "      dtype='object')"
      ]
     },
     "execution_count": 49,
     "metadata": {},
     "output_type": "execute_result"
    }
   ],
   "source": [
    "df.columns"
   ]
  },
  {
   "cell_type": "code",
   "execution_count": 50,
   "id": "b1189343",
   "metadata": {},
   "outputs": [
    {
     "data": {
      "text/plain": [
       "0        False\n",
       "1        False\n",
       "2        False\n",
       "3        False\n",
       "4        False\n",
       "         ...  \n",
       "10166    False\n",
       "10167    False\n",
       "10168    False\n",
       "10169    False\n",
       "10170    False\n",
       "Name: Age, Length: 10171, dtype: bool"
      ]
     },
     "execution_count": 50,
     "metadata": {},
     "output_type": "execute_result"
    }
   ],
   "source": [
    "df['Age'].isnull()"
   ]
  },
  {
   "cell_type": "code",
   "execution_count": 51,
   "id": "bb999267",
   "metadata": {},
   "outputs": [
    {
     "data": {
      "text/plain": [
       "0        False\n",
       "1        False\n",
       "2        False\n",
       "3        False\n",
       "4        False\n",
       "         ...  \n",
       "10166    False\n",
       "10167    False\n",
       "10168    False\n",
       "10169    False\n",
       "10170    False\n",
       "Name: Religion, Length: 10171, dtype: bool"
      ]
     },
     "execution_count": 51,
     "metadata": {},
     "output_type": "execute_result"
    }
   ],
   "source": [
    "df['Religion'].isnull()"
   ]
  },
  {
   "cell_type": "code",
   "execution_count": 60,
   "id": "ac5f9b49",
   "metadata": {},
   "outputs": [],
   "source": [
    "christian=sum(df['Religion']=='Christian')"
   ]
  },
  {
   "cell_type": "code",
   "execution_count": 61,
   "id": "35dc5ac2",
   "metadata": {},
   "outputs": [],
   "source": [
    "import matplotlib.pyplot as plt"
   ]
  },
  {
   "cell_type": "markdown",
   "id": "8ce9873c",
   "metadata": {},
   "source": [
    "###### Virtualization"
   ]
  },
  {
   "cell_type": "code",
   "execution_count": 53,
   "id": "a6619119",
   "metadata": {
    "scrolled": true
   },
   "outputs": [
    {
     "data": {
      "text/plain": [
       "<AxesSubplot:xlabel='Age', ylabel='Religion'>"
      ]
     },
     "execution_count": 53,
     "metadata": {},
     "output_type": "execute_result"
    },
    {
     "data": {
      "image/png": "[encoded data removed]",
      "text/plain": [
       "<Figure size 432x288 with 1 Axes>"
      ]
     },
     "metadata": {
      "needs_background": "light"
     },
     "output_type": "display_data"
    }
   ],
   "source": [
    "sns.boxplot(data=df, x='Age',y='Religion')"
   ]
  },
  {
   "cell_type": "code",
   "execution_count": 65,
   "id": "5e566e54",
   "metadata": {
    "scrolled": true
   },
   "outputs": [
    {
     "data": {
      "text/plain": [
       "Text(0.5, 1.0, 'Religion')"
      ]
     },
     "execution_count": 65,
     "metadata": {},
     "output_type": "execute_result"
    },
    {
     "data": {
      "image/png": "[encoded data removed]",
      "text/plain": [
       "<Figure size 432x288 with 1 Axes>"
      ]
     },
     "metadata": {
      "needs_background": "light"
     },
     "output_type": "display_data"
    }
   ],
   "source": [
    "sns.countplot(x='Religion', data=df)\n",
    "plt.xticks(rotation=90)\n",
    "plt.title('Religion')"
   ]
  },
  {
   "cell_type": "code",
   "execution_count": 67,
   "id": "87e46946",
   "metadata": {},
   "outputs": [
    {
     "data": {
      "text/plain": [
       "<AxesSubplot:xlabel='Age', ylabel='Count'>"
      ]
     },
     "execution_count": 67,
     "metadata": {},
     "output_type": "execute_result"
    },
    {
     "data": {
      "image/png": "[encoded data removed]",
      "text/plain": [
       "<Figure size 432x288 with 1 Axes>"
      ]
     },
     "metadata": {
      "needs_background": "light"
     },
     "output_type": "display_data"
    }
   ],
   "source": [
    "sns.histplot(df,x='Age',hue='Gender', binwidth=5)"
   ]
  },
  {
   "cell_type": "code",
   "execution_count": 100,
   "id": "76eb7a53",
   "metadata": {},
   "outputs": [
    {
     "data": {
      "text/plain": [
       "104"
      ]
     },
     "execution_count": 100,
     "metadata": {},
     "output_type": "execute_result"
    }
   ],
   "source": [
    "sum(df['Age']==0)"
   ]
  },
  {
   "cell_type": "code",
   "execution_count": 101,
   "id": "1e4f4cf8",
   "metadata": {},
   "outputs": [
    {
     "data": {
      "text/plain": [
       "382"
      ]
     },
     "execution_count": 101,
     "metadata": {},
     "output_type": "execute_result"
    }
   ],
   "source": [
    "sum((df['Age'] >= 25) & (df['Age'] <=29) & (df['Gender']=='Female'))"
   ]
  },
  {
   "cell_type": "code",
   "execution_count": 103,
   "id": "de93fafa",
   "metadata": {},
   "outputs": [
    {
     "data": {
      "text/plain": [
       "0.1414965986394558"
      ]
     },
     "execution_count": 103,
     "metadata": {},
     "output_type": "execute_result"
    }
   ],
   "source": [
    "104/735"
   ]
  },
  {
   "cell_type": "code",
   "execution_count": 104,
   "id": "84277383",
   "metadata": {},
   "outputs": [
    {
     "data": {
      "text/plain": [
       "12925.170068027212"
      ]
     },
     "execution_count": 104,
     "metadata": {},
     "output_type": "execute_result"
    }
   ],
   "source": [
    "(95/735)*100000"
   ]
  },
  {
   "cell_type": "code",
   "execution_count": 77,
   "id": "f6c44fef",
   "metadata": {},
   "outputs": [
    {
     "data": {
      "text/plain": [
       "<AxesSubplot:xlabel='Infirmity', ylabel='Count'>"
      ]
     },
     "execution_count": 77,
     "metadata": {},
     "output_type": "execute_result"
    },
    {
     "data": {
      "image/png": "[encoded data removed]",
      "text/plain": [
       "<Figure size 432x288 with 1 Axes>"
      ]
     },
     "metadata": {
      "needs_background": "light"
     },
     "output_type": "display_data"
    }
   ],
   "source": [
    "sns.histplot(df,x='Infirmity',hue='Gender', binwidth=5)"
   ]
  },
  {
   "cell_type": "code",
   "execution_count": 78,
   "id": "96379807",
   "metadata": {},
   "outputs": [
    {
     "data": {
      "image/png": "[encoded data removed]",
      "text/plain": [
       "<Figure size 360x360 with 1 Axes>"
      ]
     },
     "metadata": {
      "needs_background": "light"
     },
     "output_type": "display_data"
    }
   ],
   "source": [
    "d_plt=sns.displot(data=df,x='Age',y='Relationship to Head of House')"
   ]
  },
  {
   "cell_type": "code",
   "execution_count": 79,
   "id": "70d7555b",
   "metadata": {},
   "outputs": [
    {
     "data": {
      "image/png": "[encoded data removed]",
      "text/plain": [
       "<Figure size 360x360 with 1 Axes>"
      ]
     },
     "metadata": {
      "needs_background": "light"
     },
     "output_type": "display_data"
    }
   ],
   "source": [
    "a_plt=sns.displot(data=df,x='Age')"
   ]
  },
  {
   "cell_type": "code",
   "execution_count": 80,
   "id": "c7c24f7b",
   "metadata": {},
   "outputs": [
    {
     "data": {
      "image/png": "[encoded data removed]",
      "text/plain": [
       "<Figure size 360x360 with 1 Axes>"
      ]
     },
     "metadata": {
      "needs_background": "light"
     },
     "output_type": "display_data"
    }
   ],
   "source": [
    "a_plt=sns.displot(data=df,x='Gender')"
   ]
  },
  {
   "cell_type": "markdown",
   "id": "16290564",
   "metadata": {},
   "source": [
    "#### Age Range"
   ]
  },
  {
   "cell_type": "code",
   "execution_count": 82,
   "id": "d670a1f6",
   "metadata": {},
   "outputs": [],
   "source": [
    "def age_range_builder(df,gender,start_age,end_age):\n",
    "    \"\"\"Function that returns the number of people of a gender in an age range\"\"\"\n",
    "    return df[(df[\"Gender\"]==gender) & (df[\"Age\"]>= start_age)&(df[\"Age\"]<=end_age)].count()[\"Gender\"]"
   ]
  },
  {
   "cell_type": "code",
   "execution_count": 83,
   "id": "86aca3e6",
   "metadata": {},
   "outputs": [
    {
     "data": {
      "text/html": [
       "<div>\n",
       "<style scoped>\n",
       "    .dataframe tbody tr th:only-of-type {\n",
       "        vertical-align: middle;\n",
       "    }\n",
       "\n",
       "    .dataframe tbody tr th {\n",
       "        vertical-align: top;\n",
       "    }\n",
       "\n",
       "    .dataframe thead th {\n",
       "        text-align: right;\n",
       "    }\n",
       "</style>\n",
       "<table border=\"1\" class=\"dataframe\">\n",
       "  <thead>\n",
       "    <tr style=\"text-align: right;\">\n",
       "      <th></th>\n",
       "      <th>Age</th>\n",
       "      <th>Male</th>\n",
       "      <th>Female</th>\n",
       "      <th>Count</th>\n",
       "    </tr>\n",
       "  </thead>\n",
       "  <tbody>\n",
       "    <tr>\n",
       "      <th>0</th>\n",
       "      <td>100+</td>\n",
       "      <td>-10</td>\n",
       "      <td>10</td>\n",
       "      <td>20</td>\n",
       "    </tr>\n",
       "    <tr>\n",
       "      <th>1</th>\n",
       "      <td>95-99</td>\n",
       "      <td>-4</td>\n",
       "      <td>11</td>\n",
       "      <td>15</td>\n",
       "    </tr>\n",
       "    <tr>\n",
       "      <th>2</th>\n",
       "      <td>90-94</td>\n",
       "      <td>-8</td>\n",
       "      <td>7</td>\n",
       "      <td>15</td>\n",
       "    </tr>\n",
       "    <tr>\n",
       "      <th>3</th>\n",
       "      <td>85-89</td>\n",
       "      <td>-41</td>\n",
       "      <td>39</td>\n",
       "      <td>80</td>\n",
       "    </tr>\n",
       "    <tr>\n",
       "      <th>4</th>\n",
       "      <td>80-84</td>\n",
       "      <td>-65</td>\n",
       "      <td>78</td>\n",
       "      <td>143</td>\n",
       "    </tr>\n",
       "    <tr>\n",
       "      <th>5</th>\n",
       "      <td>75-79</td>\n",
       "      <td>-93</td>\n",
       "      <td>92</td>\n",
       "      <td>185</td>\n",
       "    </tr>\n",
       "    <tr>\n",
       "      <th>6</th>\n",
       "      <td>70-74</td>\n",
       "      <td>-138</td>\n",
       "      <td>178</td>\n",
       "      <td>316</td>\n",
       "    </tr>\n",
       "    <tr>\n",
       "      <th>7</th>\n",
       "      <td>65-69</td>\n",
       "      <td>-153</td>\n",
       "      <td>160</td>\n",
       "      <td>313</td>\n",
       "    </tr>\n",
       "    <tr>\n",
       "      <th>8</th>\n",
       "      <td>60-64</td>\n",
       "      <td>-204</td>\n",
       "      <td>251</td>\n",
       "      <td>455</td>\n",
       "    </tr>\n",
       "    <tr>\n",
       "      <th>9</th>\n",
       "      <td>55-59</td>\n",
       "      <td>-277</td>\n",
       "      <td>268</td>\n",
       "      <td>545</td>\n",
       "    </tr>\n",
       "    <tr>\n",
       "      <th>10</th>\n",
       "      <td>50-54</td>\n",
       "      <td>-308</td>\n",
       "      <td>341</td>\n",
       "      <td>649</td>\n",
       "    </tr>\n",
       "    <tr>\n",
       "      <th>11</th>\n",
       "      <td>45-49</td>\n",
       "      <td>-332</td>\n",
       "      <td>402</td>\n",
       "      <td>734</td>\n",
       "    </tr>\n",
       "    <tr>\n",
       "      <th>12</th>\n",
       "      <td>40-44</td>\n",
       "      <td>-394</td>\n",
       "      <td>468</td>\n",
       "      <td>862</td>\n",
       "    </tr>\n",
       "    <tr>\n",
       "      <th>13</th>\n",
       "      <td>35-39</td>\n",
       "      <td>-385</td>\n",
       "      <td>473</td>\n",
       "      <td>858</td>\n",
       "    </tr>\n",
       "    <tr>\n",
       "      <th>14</th>\n",
       "      <td>30-34</td>\n",
       "      <td>-351</td>\n",
       "      <td>432</td>\n",
       "      <td>783</td>\n",
       "    </tr>\n",
       "    <tr>\n",
       "      <th>15</th>\n",
       "      <td>25-29</td>\n",
       "      <td>-313</td>\n",
       "      <td>382</td>\n",
       "      <td>695</td>\n",
       "    </tr>\n",
       "    <tr>\n",
       "      <th>16</th>\n",
       "      <td>20-24</td>\n",
       "      <td>-362</td>\n",
       "      <td>369</td>\n",
       "      <td>731</td>\n",
       "    </tr>\n",
       "    <tr>\n",
       "      <th>17</th>\n",
       "      <td>15-19</td>\n",
       "      <td>-400</td>\n",
       "      <td>365</td>\n",
       "      <td>765</td>\n",
       "    </tr>\n",
       "    <tr>\n",
       "      <th>18</th>\n",
       "      <td>10-14</td>\n",
       "      <td>-360</td>\n",
       "      <td>351</td>\n",
       "      <td>711</td>\n",
       "    </tr>\n",
       "    <tr>\n",
       "      <th>19</th>\n",
       "      <td>5-9</td>\n",
       "      <td>-364</td>\n",
       "      <td>316</td>\n",
       "      <td>680</td>\n",
       "    </tr>\n",
       "    <tr>\n",
       "      <th>20</th>\n",
       "      <td>0-4</td>\n",
       "      <td>-331</td>\n",
       "      <td>285</td>\n",
       "      <td>616</td>\n",
       "    </tr>\n",
       "  </tbody>\n",
       "</table>\n",
       "</div>"
      ],
      "text/plain": [
       "      Age  Male  Female  Count\n",
       "0    100+   -10      10     20\n",
       "1   95-99    -4      11     15\n",
       "2   90-94    -8       7     15\n",
       "3   85-89   -41      39     80\n",
       "4   80-84   -65      78    143\n",
       "5   75-79   -93      92    185\n",
       "6   70-74  -138     178    316\n",
       "7   65-69  -153     160    313\n",
       "8   60-64  -204     251    455\n",
       "9   55-59  -277     268    545\n",
       "10  50-54  -308     341    649\n",
       "11  45-49  -332     402    734\n",
       "12  40-44  -394     468    862\n",
       "13  35-39  -385     473    858\n",
       "14  30-34  -351     432    783\n",
       "15  25-29  -313     382    695\n",
       "16  20-24  -362     369    731\n",
       "17  15-19  -400     365    765\n",
       "18  10-14  -360     351    711\n",
       "19    5-9  -364     316    680\n",
       "20    0-4  -331     285    616"
      ]
     },
     "execution_count": 83,
     "metadata": {},
     "output_type": "execute_result"
    }
   ],
   "source": [
    "Age_range=[\"100+\",\"95-99\",\"90-94\",\"85-89\",\"80-84\",\"75-79\",\"70-74\",\"65-69\",\"60-64\",\"55-59\",\"50-54\",\"45-49\",\"40-44\",\"35-39\",\"30-34\",\"25-29\",\"20-24\",\"15-19\",\"10-14\",\"5-9\",\"0-4\"]\n",
    "\n",
    "male=[]\n",
    "female=[]\n",
    "count=[]\n",
    "\n",
    "for value in Age_range:\n",
    "    start=0\n",
    "    end=0\n",
    "    if \"-\" in value:\n",
    "        age=value.split(\"-\")\n",
    "        start= int(age[0])\n",
    "        end=int(age[1])\n",
    "    else:\n",
    "        start=100\n",
    "        end=200\n",
    "        \n",
    "    male.append(-1*age_range_builder(df, \"Male\",start,end))\n",
    "    female.append(age_range_builder(df, \"Female\",start,end))\n",
    "    count.append((age_range_builder(df, \"Male\",start,end))+(age_range_builder(df, \"Female\",start,end)))\n",
    "    \n",
    "agegroup_table=pd.DataFrame({\"Age\":Age_range,\"Male\":male,\"Female\":female,\"Count\":count})\n",
    "AgeClass=[\"100+\",\"95-99\",\"90-94\",\"85-89\",\"80-84\",\"75-79\",\"70-74\",\"65-69\",\"60-64\",\"55-59\",\"50-54\",\"45-49\",\"40-44\",\"35-39\",\"30-34\",\"25-29\",\"20-24\",\"15-19\",\"10-14\",\"5-9\",\"0-4\"]\n",
    "\n",
    "agegroup_table"
   ]
  },
  {
   "cell_type": "markdown",
   "id": "cffddcf2",
   "metadata": {},
   "source": [
    "#### Age Pyramid"
   ]
  },
  {
   "cell_type": "code",
   "execution_count": 84,
   "id": "641f1873",
   "metadata": {},
   "outputs": [
    {
     "data": {
      "image/png": "[encoded data removed]",
      "text/plain": [
       "<Figure size 432x288 with 1 Axes>"
      ]
     },
     "metadata": {
      "needs_background": "light"
     },
     "output_type": "display_data"
    }
   ],
   "source": [
    "age_pyramid=sns.barplot(x='Male',y='Age',data=agegroup_table,order=AgeClass,color=('yellow'),label='Male')\n",
    "age_pyramid=sns.barplot(x='Female',y='Age',data=agegroup_table,order=AgeClass,color=('pink'),label='Female')\n",
    "age_pyramid.legend()\n",
    "age_pyramid.set_xlabel('Population Count')\n",
    "age_pyramid.set_ylabel('Age range')\n",
    "plt.title('Age Pyramid')\n",
    "xticks=plt.gca().get_xticks().astype(int)\n",
    "plt.xticks(xticks,labels=np.abs(xticks));"
   ]
  },
  {
   "cell_type": "code",
   "execution_count": 85,
   "id": "9715f4d7",
   "metadata": {},
   "outputs": [
    {
     "data": {
      "text/plain": [
       "10171"
      ]
     },
     "execution_count": 85,
     "metadata": {},
     "output_type": "execute_result"
    }
   ],
   "source": [
    "total=len(df)\n",
    "total"
   ]
  },
  {
   "cell_type": "markdown",
   "id": "43edf56c",
   "metadata": {},
   "source": [
    "#### Birth Rate"
   ]
  },
  {
   "cell_type": "code",
   "execution_count": 86,
   "id": "9bc09711",
   "metadata": {},
   "outputs": [],
   "source": [
    "babies0=df['Age']==0\n",
    "babies4=df['Age']==4"
   ]
  },
  {
   "cell_type": "code",
   "execution_count": 87,
   "id": "870352fd",
   "metadata": {},
   "outputs": [
    {
     "data": {
      "text/plain": [
       "10.225149936092814"
      ]
     },
     "execution_count": 87,
     "metadata": {},
     "output_type": "execute_result"
    }
   ],
   "source": [
    "cbr=(sum (babies0)/total)*1000\n",
    "cbr"
   ]
  },
  {
   "cell_type": "code",
   "execution_count": 89,
   "id": "0688ed3b",
   "metadata": {},
   "outputs": [],
   "source": [
    "age5660=(df['Age'].between(56,60))\n",
    "age6165=(df['Age'].between(61,65))\n",
    "age6670=(df['Age'].between(66,70))\n",
    "age7175=(df['Age'].between(71,75))"
   ]
  },
  {
   "cell_type": "code",
   "execution_count": 90,
   "id": "3121a08e",
   "metadata": {},
   "outputs": [],
   "source": [
    "d6165=(sum(age5660)/sum(age6165))/5\n",
    "d6670=(sum(age6165)/sum(age6670))/5\n",
    "d7175=(sum(age6670)/sum(age7175))/5"
   ]
  },
  {
   "cell_type": "code",
   "execution_count": 91,
   "id": "7af61f20",
   "metadata": {},
   "outputs": [
    {
     "data": {
      "text/plain": [
       "731.6962873642758"
      ]
     },
     "execution_count": 91,
     "metadata": {},
     "output_type": "execute_result"
    }
   ],
   "source": [
    "tdr=(d6165+d6670+d7175)*1000\n",
    "tdr"
   ]
  },
  {
   "cell_type": "markdown",
   "id": "6fb409d1",
   "metadata": {},
   "source": [
    "#### Marital Status"
   ]
  },
  {
   "cell_type": "code",
   "execution_count": 92,
   "id": "778636a1",
   "metadata": {},
   "outputs": [
    {
     "data": {
      "text/plain": [
       "Text(0.5, 1.0, 'Marital Status')"
      ]
     },
     "execution_count": 92,
     "metadata": {},
     "output_type": "execute_result"
    },
    {
     "data": {
      "image/png": "[encoded data removed]",
      "text/plain": [
       "<Figure size 432x288 with 1 Axes>"
      ]
     },
     "metadata": {
      "needs_background": "light"
     },
     "output_type": "display_data"
    }
   ],
   "source": [
    "sns.countplot(x='Marital Status', data=df)\n",
    "plt.xticks(rotation=90)\n",
    "plt.title('Marital Status')"
   ]
  },
  {
   "cell_type": "code",
   "execution_count": 93,
   "id": "845ac7f5",
   "metadata": {
    "scrolled": true
   },
   "outputs": [
    {
     "data": {
      "text/plain": [
       "Text(0.5, 1.0, 'A plot of Age against Marital Status')"
      ]
     },
     "execution_count": 93,
     "metadata": {},
     "output_type": "execute_result"
    },
    {
     "data": {
      "image/png": "[encoded data removed]",
      "text/plain": [
       "<Figure size 432x288 with 1 Axes>"
      ]
     },
     "metadata": {
      "needs_background": "light"
     },
     "output_type": "display_data"
    }
   ],
   "source": [
    "sns.boxplot(x=\"Marital Status\",y=\"Age\",data=df, hue=\"Gender\", palette=\"colorblind\")\n",
    "plt.title(\"A plot of Age against Marital Status\")"
   ]
  },
  {
   "cell_type": "code",
   "execution_count": 102,
   "id": "45dc2814",
   "metadata": {},
   "outputs": [
    {
     "data": {
      "text/plain": [
       "count      10171\n",
       "unique         5\n",
       "top       Single\n",
       "freq        3600\n",
       "Name: Marital Status, dtype: object"
      ]
     },
     "execution_count": 102,
     "metadata": {},
     "output_type": "execute_result"
    }
   ],
   "source": [
    "df['Marital Status'].describe()"
   ]
  },
  {
   "cell_type": "code",
   "execution_count": 94,
   "id": "5c2dde4b",
   "metadata": {},
   "outputs": [
    {
     "data": {
      "text/plain": [
       "Text(0.5, 1.0, 'A plot of Age against Occupation')"
      ]
     },
     "execution_count": 94,
     "metadata": {},
     "output_type": "execute_result"
    },
    {
     "data": {
      "image/png": "[encoded data removed]",
      "text/plain": [
       "<Figure size 432x288 with 1 Axes>"
      ]
     },
     "metadata": {
      "needs_background": "light"
     },
     "output_type": "display_data"
    }
   ],
   "source": [
    "sns.scatterplot(x=\"Age\",y=\"Occupation\",data=df, hue=\"Gender\")\n",
    "plt.title(\"A plot of Age against Occupation\")"
   ]
  },
  {
   "cell_type": "code",
   "execution_count": 95,
   "id": "9014aa9d",
   "metadata": {},
   "outputs": [
    {
     "data": {
      "text/plain": [
       "Text(0.5, 1.0, 'A plot of Religion Against Age for Gender')"
      ]
     },
     "execution_count": 95,
     "metadata": {},
     "output_type": "execute_result"
    },
    {
     "data": {
      "image/png": "[encoded data removed]",
      "text/plain": [
       "<Figure size 432x288 with 1 Axes>"
      ]
     },
     "metadata": {
      "needs_background": "light"
     },
     "output_type": "display_data"
    }
   ],
   "source": [
    "sns.violinplot(data=df,y=\"Religion\",x=\"Age\", hue=\"Gender\",split=True)\n",
    "plt.title(\"A plot of Religion Against Age for Gender\")"
   ]
  },
  {
   "cell_type": "code",
   "execution_count": 96,
   "id": "87cc3293",
   "metadata": {},
   "outputs": [
    {
     "data": {
      "text/plain": [
       "Text(0.5, 1.0, 'A plot Religion Against Age ')"
      ]
     },
     "execution_count": 96,
     "metadata": {},
     "output_type": "execute_result"
    },
    {
     "data": {
      "image/png": "[encoded data removed]",
      "text/plain": [
       "<Figure size 432x288 with 1 Axes>"
      ]
     },
     "metadata": {
      "needs_background": "light"
     },
     "output_type": "display_data"
    }
   ],
   "source": [
    "sns.boxplot(data=df,y=\"Religion\",x=\"Age\")\n",
    "plt.title(\"A plot Religion Against Age \")"
   ]
  },
  {
   "cell_type": "code",
   "execution_count": 97,
   "id": "f3bb6d2e",
   "metadata": {},
   "outputs": [
    {
     "data": {
      "text/plain": [
       "Text(0.5, 1.0, ' Marital Status by Age plot ')"
      ]
     },
     "execution_count": 97,
     "metadata": {},
     "output_type": "execute_result"
    },
    {
     "data": {
      "image/png": "[encoded data removed]",
      "text/plain": [
       "<Figure size 432x288 with 1 Axes>"
      ]
     },
     "metadata": {
      "needs_background": "light"
     },
     "output_type": "display_data"
    }
   ],
   "source": [
    "sns.boxplot(data=df,y='Marital Status',x='Age')\n",
    "plt.title(\" Marital Status by Age plot \")"
   ]
  },
  {
   "cell_type": "code",
   "execution_count": 98,
   "id": "884f328d",
   "metadata": {},
   "outputs": [
    {
     "data": {
      "text/plain": [
       "Text(0.5, 1.0, 'A plot of Age against Religion')"
      ]
     },
     "execution_count": 98,
     "metadata": {},
     "output_type": "execute_result"
    },
    {
     "data": {
      "image/png": "[encoded data removed]",
      "text/plain": [
       "<Figure size 432x288 with 1 Axes>"
      ]
     },
     "metadata": {
      "needs_background": "light"
     },
     "output_type": "display_data"
    }
   ],
   "source": [
    "fig,axs=plt.figsize=(10,5)\n",
    "whiskerplot=sns.boxenplot(y=df['Religion'], x=df['Age'])\n",
    "whiskerplot.set(xlabel='Age',ylabel='Religion')\n",
    "plt.title(\"A plot of Age against Religion\")"
   ]
  },
  {
   "cell_type": "code",
   "execution_count": 118,
   "id": "3a8382ec",
   "metadata": {},
   "outputs": [
    {
     "data": {
      "text/plain": [
       "Age\n",
       "99     5\n",
       "98     3\n",
       "97     1\n",
       "96     4\n",
       "95     2\n",
       "94     6\n",
       "93     3\n",
       "92     3\n",
       "91     1\n",
       "90     2\n",
       "89    16\n",
       "88    16\n",
       "87    17\n",
       "86    15\n",
       "85    16\n",
       "84    22\n",
       "83    28\n",
       "82    35\n",
       "81    25\n",
       "80    33\n",
       "79    30\n",
       "78    34\n",
       "77    35\n",
       "76    41\n",
       "75    45\n",
       "74    63\n",
       "73    68\n",
       "72    60\n",
       "71    61\n",
       "70    64\n",
       "69    60\n",
       "68    53\n",
       "67    69\n",
       "66    63\n",
       "65    68\n",
       "dtype: int64"
      ]
     },
     "execution_count": 118,
     "metadata": {},
     "output_type": "execute_result"
    }
   ],
   "source": [
    "agepop=df[df['Age'].between(65,99)].groupby('Age').size().sort_index(ascending=False)\n",
    "agepop"
   ]
  },
  {
   "cell_type": "code",
   "execution_count": 119,
   "id": "6c94fb7d",
   "metadata": {},
   "outputs": [
    {
     "data": {
      "text/plain": [
       "Age\n",
       "99     3.0\n",
       "98     1.0\n",
       "97     4.0\n",
       "96     2.0\n",
       "95     6.0\n",
       "94     3.0\n",
       "93     3.0\n",
       "92     1.0\n",
       "91     2.0\n",
       "90    16.0\n",
       "89    16.0\n",
       "88    17.0\n",
       "87    15.0\n",
       "86    16.0\n",
       "85    22.0\n",
       "84    28.0\n",
       "83    35.0\n",
       "82    25.0\n",
       "81    33.0\n",
       "80    30.0\n",
       "79    34.0\n",
       "78    35.0\n",
       "77    41.0\n",
       "76    45.0\n",
       "75    63.0\n",
       "74    68.0\n",
       "73    60.0\n",
       "72    61.0\n",
       "71    64.0\n",
       "70    60.0\n",
       "69    53.0\n",
       "68    69.0\n",
       "67    63.0\n",
       "66    68.0\n",
       "65     NaN\n",
       "dtype: float64"
      ]
     },
     "execution_count": 119,
     "metadata": {},
     "output_type": "execute_result"
    }
   ],
   "source": [
    "shiftage=agepop.shift(-1)\n",
    "shiftage"
   ]
  },
  {
   "cell_type": "code",
   "execution_count": 120,
   "id": "45202fef",
   "metadata": {},
   "outputs": [],
   "source": [
    "diff=agepop-shiftage\n",
    "diff=diff.reset_index(name='Count')\n",
    "deaths=diff[diff['Count']<0]"
   ]
  },
  {
   "cell_type": "code",
   "execution_count": 121,
   "id": "e9cf2a4d",
   "metadata": {},
   "outputs": [
    {
     "data": {
      "text/html": [
       "<div>\n",
       "<style scoped>\n",
       "    .dataframe tbody tr th:only-of-type {\n",
       "        vertical-align: middle;\n",
       "    }\n",
       "\n",
       "    .dataframe tbody tr th {\n",
       "        vertical-align: top;\n",
       "    }\n",
       "\n",
       "    .dataframe thead th {\n",
       "        text-align: right;\n",
       "    }\n",
       "</style>\n",
       "<table border=\"1\" class=\"dataframe\">\n",
       "  <thead>\n",
       "    <tr style=\"text-align: right;\">\n",
       "      <th></th>\n",
       "      <th>Age</th>\n",
       "      <th>Count</th>\n",
       "    </tr>\n",
       "  </thead>\n",
       "  <tbody>\n",
       "    <tr>\n",
       "      <th>2</th>\n",
       "      <td>97</td>\n",
       "      <td>-3.0</td>\n",
       "    </tr>\n",
       "    <tr>\n",
       "      <th>4</th>\n",
       "      <td>95</td>\n",
       "      <td>-4.0</td>\n",
       "    </tr>\n",
       "    <tr>\n",
       "      <th>8</th>\n",
       "      <td>91</td>\n",
       "      <td>-1.0</td>\n",
       "    </tr>\n",
       "    <tr>\n",
       "      <th>9</th>\n",
       "      <td>90</td>\n",
       "      <td>-14.0</td>\n",
       "    </tr>\n",
       "    <tr>\n",
       "      <th>11</th>\n",
       "      <td>88</td>\n",
       "      <td>-1.0</td>\n",
       "    </tr>\n",
       "    <tr>\n",
       "      <th>13</th>\n",
       "      <td>86</td>\n",
       "      <td>-1.0</td>\n",
       "    </tr>\n",
       "    <tr>\n",
       "      <th>14</th>\n",
       "      <td>85</td>\n",
       "      <td>-6.0</td>\n",
       "    </tr>\n",
       "    <tr>\n",
       "      <th>15</th>\n",
       "      <td>84</td>\n",
       "      <td>-6.0</td>\n",
       "    </tr>\n",
       "    <tr>\n",
       "      <th>16</th>\n",
       "      <td>83</td>\n",
       "      <td>-7.0</td>\n",
       "    </tr>\n",
       "    <tr>\n",
       "      <th>18</th>\n",
       "      <td>81</td>\n",
       "      <td>-8.0</td>\n",
       "    </tr>\n",
       "    <tr>\n",
       "      <th>20</th>\n",
       "      <td>79</td>\n",
       "      <td>-4.0</td>\n",
       "    </tr>\n",
       "    <tr>\n",
       "      <th>21</th>\n",
       "      <td>78</td>\n",
       "      <td>-1.0</td>\n",
       "    </tr>\n",
       "    <tr>\n",
       "      <th>22</th>\n",
       "      <td>77</td>\n",
       "      <td>-6.0</td>\n",
       "    </tr>\n",
       "    <tr>\n",
       "      <th>23</th>\n",
       "      <td>76</td>\n",
       "      <td>-4.0</td>\n",
       "    </tr>\n",
       "    <tr>\n",
       "      <th>24</th>\n",
       "      <td>75</td>\n",
       "      <td>-18.0</td>\n",
       "    </tr>\n",
       "    <tr>\n",
       "      <th>25</th>\n",
       "      <td>74</td>\n",
       "      <td>-5.0</td>\n",
       "    </tr>\n",
       "    <tr>\n",
       "      <th>27</th>\n",
       "      <td>72</td>\n",
       "      <td>-1.0</td>\n",
       "    </tr>\n",
       "    <tr>\n",
       "      <th>28</th>\n",
       "      <td>71</td>\n",
       "      <td>-3.0</td>\n",
       "    </tr>\n",
       "    <tr>\n",
       "      <th>31</th>\n",
       "      <td>68</td>\n",
       "      <td>-16.0</td>\n",
       "    </tr>\n",
       "    <tr>\n",
       "      <th>33</th>\n",
       "      <td>66</td>\n",
       "      <td>-5.0</td>\n",
       "    </tr>\n",
       "  </tbody>\n",
       "</table>\n",
       "</div>"
      ],
      "text/plain": [
       "    Age  Count\n",
       "2    97   -3.0\n",
       "4    95   -4.0\n",
       "8    91   -1.0\n",
       "9    90  -14.0\n",
       "11   88   -1.0\n",
       "13   86   -1.0\n",
       "14   85   -6.0\n",
       "15   84   -6.0\n",
       "16   83   -7.0\n",
       "18   81   -8.0\n",
       "20   79   -4.0\n",
       "21   78   -1.0\n",
       "22   77   -6.0\n",
       "23   76   -4.0\n",
       "24   75  -18.0\n",
       "25   74   -5.0\n",
       "27   72   -1.0\n",
       "28   71   -3.0\n",
       "31   68  -16.0\n",
       "33   66   -5.0"
      ]
     },
     "execution_count": 121,
     "metadata": {},
     "output_type": "execute_result"
    }
   ],
   "source": [
    "deaths"
   ]
  },
  {
   "cell_type": "code",
   "execution_count": 122,
   "id": "e05691d2",
   "metadata": {
    "scrolled": true
   },
   "outputs": [
    {
     "data": {
      "text/plain": [
       "11.20833742994789"
      ]
     },
     "execution_count": 122,
     "metadata": {},
     "output_type": "execute_result"
    }
   ],
   "source": [
    "death_rate=abs((sum(deaths['Count']))/total)*1000\n",
    "death_rate"
   ]
  },
  {
   "cell_type": "markdown",
   "id": "cbd11f6b",
   "metadata": {},
   "source": [
    "#### Immigration"
   ]
  },
  {
   "cell_type": "code",
   "execution_count": 143,
   "id": "0ca63e80",
   "metadata": {},
   "outputs": [
    {
     "data": {
      "text/plain": [
       "446"
      ]
     },
     "execution_count": 143,
     "metadata": {},
     "output_type": "execute_result"
    }
   ],
   "source": [
    "lodger=df['Relationship to Head of House']=='Lodger'\n",
    "visitor=df['Relationship to Head of House']=='Visitor'\n",
    "immigrants=sum(lodger) + sum(visitor)\n",
    "immigrants"
   ]
  },
  {
   "cell_type": "code",
   "execution_count": 144,
   "id": "1739472e",
   "metadata": {},
   "outputs": [
    {
     "data": {
      "text/plain": [
       "43.85016222593648"
      ]
     },
     "execution_count": 144,
     "metadata": {},
     "output_type": "execute_result"
    }
   ],
   "source": [
    "immi_rate=(immigrants/total)*1000\n",
    "immi_rate"
   ]
  },
  {
   "cell_type": "code",
   "execution_count": 146,
   "id": "a293bd21",
   "metadata": {},
   "outputs": [],
   "source": [
    "male_dvs=(df['Marital Status']=='Divorced') & (df['Gender']=='Male')\n",
    "female_dvs=(df['Marital Status']=='Divorced') & (df['Gender']=='Female')"
   ]
  },
  {
   "cell_type": "code",
   "execution_count": 147,
   "id": "5dd6656e",
   "metadata": {},
   "outputs": [
    {
     "data": {
      "text/plain": [
       "375"
      ]
     },
     "execution_count": 147,
     "metadata": {},
     "output_type": "execute_result"
    }
   ],
   "source": [
    "sum(male_dvs)"
   ]
  },
  {
   "cell_type": "code",
   "execution_count": 148,
   "id": "1ae6edf4",
   "metadata": {},
   "outputs": [
    {
     "data": {
      "text/plain": [
       "569"
      ]
     },
     "execution_count": 148,
     "metadata": {},
     "output_type": "execute_result"
    }
   ],
   "source": [
    "sum(female_dvs)"
   ]
  },
  {
   "cell_type": "code",
   "execution_count": 149,
   "id": "34bb4b92",
   "metadata": {},
   "outputs": [
    {
     "data": {
      "text/plain": [
       "19.073837380788515"
      ]
     },
     "execution_count": 149,
     "metadata": {},
     "output_type": "execute_result"
    }
   ],
   "source": [
    "emmigrants=sum(female_dvs)-sum(male_dvs)\n",
    "emi_rate=(emmigrants/total)*1000\n",
    "emi_rate"
   ]
  },
  {
   "cell_type": "markdown",
   "id": "b1fb9895",
   "metadata": {},
   "source": [
    "#### Population Change"
   ]
  },
  {
   "cell_type": "code",
   "execution_count": 151,
   "id": "382f92f9",
   "metadata": {},
   "outputs": [
    {
     "data": {
      "text/html": [
       "<div>\n",
       "<style scoped>\n",
       "    .dataframe tbody tr th:only-of-type {\n",
       "        vertical-align: middle;\n",
       "    }\n",
       "\n",
       "    .dataframe tbody tr th {\n",
       "        vertical-align: top;\n",
       "    }\n",
       "\n",
       "    .dataframe thead th {\n",
       "        text-align: right;\n",
       "    }\n",
       "</style>\n",
       "<table border=\"1\" class=\"dataframe\">\n",
       "  <thead>\n",
       "    <tr style=\"text-align: right;\">\n",
       "      <th></th>\n",
       "      <th>House Number</th>\n",
       "      <th>Street</th>\n",
       "      <th>Occupancy Count</th>\n",
       "    </tr>\n",
       "  </thead>\n",
       "  <tbody>\n",
       "    <tr>\n",
       "      <th>0</th>\n",
       "      <td>13</td>\n",
       "      <td>Scepter Extension</td>\n",
       "      <td>5</td>\n",
       "    </tr>\n",
       "    <tr>\n",
       "      <th>1</th>\n",
       "      <td>148</td>\n",
       "      <td>Gallagher Wells</td>\n",
       "      <td>1</td>\n",
       "    </tr>\n",
       "    <tr>\n",
       "      <th>2</th>\n",
       "      <td>1</td>\n",
       "      <td>Ambrosia Walks</td>\n",
       "      <td>4</td>\n",
       "    </tr>\n",
       "    <tr>\n",
       "      <th>3</th>\n",
       "      <td>1</td>\n",
       "      <td>April Street</td>\n",
       "      <td>5</td>\n",
       "    </tr>\n",
       "    <tr>\n",
       "      <th>4</th>\n",
       "      <td>1</td>\n",
       "      <td>Aquarius Avenue</td>\n",
       "      <td>1</td>\n",
       "    </tr>\n",
       "    <tr>\n",
       "      <th>...</th>\n",
       "      <td>...</td>\n",
       "      <td>...</td>\n",
       "      <td>...</td>\n",
       "    </tr>\n",
       "    <tr>\n",
       "      <th>3549</th>\n",
       "      <td>99</td>\n",
       "      <td>Merlin Drive</td>\n",
       "      <td>1</td>\n",
       "    </tr>\n",
       "    <tr>\n",
       "      <th>3550</th>\n",
       "      <td>99</td>\n",
       "      <td>Moore Roads</td>\n",
       "      <td>5</td>\n",
       "    </tr>\n",
       "    <tr>\n",
       "      <th>3551</th>\n",
       "      <td>99</td>\n",
       "      <td>Pinewood Expressway</td>\n",
       "      <td>2</td>\n",
       "    </tr>\n",
       "    <tr>\n",
       "      <th>3552</th>\n",
       "      <td>99</td>\n",
       "      <td>Stone Center</td>\n",
       "      <td>2</td>\n",
       "    </tr>\n",
       "    <tr>\n",
       "      <th>3553</th>\n",
       "      <td>99</td>\n",
       "      <td>Toucan Avenue</td>\n",
       "      <td>1</td>\n",
       "    </tr>\n",
       "  </tbody>\n",
       "</table>\n",
       "<p>3554 rows × 3 columns</p>\n",
       "</div>"
      ],
      "text/plain": [
       "     House Number               Street  Occupancy Count\n",
       "0              13    Scepter Extension                5\n",
       "1             148      Gallagher Wells                1\n",
       "2               1       Ambrosia Walks                4\n",
       "3               1         April Street                5\n",
       "4               1      Aquarius Avenue                1\n",
       "...           ...                  ...              ...\n",
       "3549           99         Merlin Drive                1\n",
       "3550           99          Moore Roads                5\n",
       "3551           99  Pinewood Expressway                2\n",
       "3552           99         Stone Center                2\n",
       "3553           99        Toucan Avenue                1\n",
       "\n",
       "[3554 rows x 3 columns]"
      ]
     },
     "execution_count": 151,
     "metadata": {},
     "output_type": "execute_result"
    }
   ],
   "source": [
    "hd_df= df.groupby(['House Number', 'Street']).size().reset_index(name='Occupancy Count')\n",
    "hd_df"
   ]
  },
  {
   "cell_type": "code",
   "execution_count": 153,
   "id": "669836a1",
   "metadata": {},
   "outputs": [],
   "source": [
    "mode=hd_df['Occupancy Count'].mode()"
   ]
  },
  {
   "cell_type": "code",
   "execution_count": 154,
   "id": "d84ea222",
   "metadata": {},
   "outputs": [],
   "source": [
    "mean=hd_df['Occupancy Count'].mean()"
   ]
  },
  {
   "cell_type": "code",
   "execution_count": 155,
   "id": "d98d8bc0",
   "metadata": {},
   "outputs": [],
   "source": [
    "housing_density= mode - mean"
   ]
  },
  {
   "cell_type": "code",
   "execution_count": 156,
   "id": "7b57da69",
   "metadata": {},
   "outputs": [
    {
     "name": "stdout",
     "output_type": "stream",
     "text": [
      "<class 'pandas.core.frame.DataFrame'>\n",
      "RangeIndex: 10171 entries, 0 to 10170\n",
      "Data columns (total 13 columns):\n",
      " #   Column                         Non-Null Count  Dtype \n",
      "---  ------                         --------------  ----- \n",
      " 0   House Number                   10171 non-null  object\n",
      " 1   Street                         10171 non-null  object\n",
      " 2   First Name                     10171 non-null  object\n",
      " 3   Surname                        10171 non-null  object\n",
      " 4   Age                            10171 non-null  int32 \n",
      " 5   Relationship to Head of House  10171 non-null  object\n",
      " 6   Marital Status                 10171 non-null  object\n",
      " 7   Gender                         10171 non-null  object\n",
      " 8   Occupation                     10171 non-null  object\n",
      " 9   Infirmity                      10171 non-null  object\n",
      " 10  Religion                       10171 non-null  object\n",
      " 11  Retired                        10171 non-null  object\n",
      " 12  Employed                       10171 non-null  object\n",
      "dtypes: int32(1), object(12)\n",
      "memory usage: 993.4+ KB\n"
     ]
    }
   ],
   "source": [
    "df.info()"
   ]
  },
  {
   "cell_type": "markdown",
   "id": "d41bd364",
   "metadata": {},
   "source": [
    "#### Commuters"
   ]
  },
  {
   "cell_type": "code",
   "execution_count": 129,
   "id": "a58c94cd",
   "metadata": {},
   "outputs": [
    {
     "data": {
      "text/plain": [
       "10"
      ]
     },
     "execution_count": 129,
     "metadata": {},
     "output_type": "execute_result"
    }
   ],
   "source": [
    "len(\"occupation\")"
   ]
  },
  {
   "cell_type": "code",
   "execution_count": 131,
   "id": "b84aecc5",
   "metadata": {},
   "outputs": [
    {
     "data": {
      "text/plain": [
       "59.58116212761774"
      ]
     },
     "execution_count": 131,
     "metadata": {},
     "output_type": "execute_result"
    }
   ],
   "source": [
    "comm=df[df['Occupation']=='University Student']\n",
    "(len(comm)/total)*1000"
   ]
  },
  {
   "cell_type": "code",
   "execution_count": 132,
   "id": "9b318ee2",
   "metadata": {},
   "outputs": [
    {
     "data": {
      "text/plain": [
       "59.58116212761774"
      ]
     },
     "execution_count": 132,
     "metadata": {},
     "output_type": "execute_result"
    }
   ],
   "source": [
    "((len(comm))/total)*1000"
   ]
  },
  {
   "cell_type": "code",
   "execution_count": 133,
   "id": "e1bf4aa6",
   "metadata": {},
   "outputs": [],
   "source": [
    "commuters=df[df['Occupation'].isin(['University Student','Airline pilot', 'Engineer, aeronautical','Air cabin crew','Transport planner','Hydrogeologist','Pilot, airline','Hydrologist','Oceanographer'])]"
   ]
  },
  {
   "cell_type": "code",
   "execution_count": 134,
   "id": "0f25e72b",
   "metadata": {},
   "outputs": [
    {
     "data": {
      "text/plain": [
       "66.75843083275981"
      ]
     },
     "execution_count": 134,
     "metadata": {},
     "output_type": "execute_result"
    }
   ],
   "source": [
    "(len(commuters)/total)*1000"
   ]
  },
  {
   "cell_type": "code",
   "execution_count": 135,
   "id": "6ed0593c",
   "metadata": {},
   "outputs": [],
   "source": [
    "df['Employed']=df['Occupation'].apply(lambda x: x.split(' ')[0])"
   ]
  },
  {
   "cell_type": "code",
   "execution_count": 136,
   "id": "9a4d0dad",
   "metadata": {},
   "outputs": [],
   "source": [
    "retired2=sum((df['Occupation']=='Unemployed') & (df['Age']>=65))"
   ]
  },
  {
   "cell_type": "code",
   "execution_count": 137,
   "id": "d2f6459f",
   "metadata": {},
   "outputs": [],
   "source": [
    "retired=len(df[df['Employed']=='Retired'])"
   ]
  },
  {
   "cell_type": "code",
   "execution_count": 138,
   "id": "0dc22e88",
   "metadata": {},
   "outputs": [
    {
     "data": {
      "text/plain": [
       "903"
      ]
     },
     "execution_count": 138,
     "metadata": {},
     "output_type": "execute_result"
    }
   ],
   "source": [
    "total_retired=retired+retired2\n",
    "total_retired"
   ]
  },
  {
   "cell_type": "code",
   "execution_count": 139,
   "id": "eb619f2f",
   "metadata": {},
   "outputs": [
    {
     "data": {
      "text/plain": [
       "88.78183069511356"
      ]
     },
     "execution_count": 139,
     "metadata": {},
     "output_type": "execute_result"
    }
   ],
   "source": [
    "((total_retired)/total)*1000"
   ]
  },
  {
   "cell_type": "code",
   "execution_count": 140,
   "id": "6b4527c3",
   "metadata": {},
   "outputs": [],
   "source": [
    "umemployed=sum((df['Occupation']=='Unemployed') & (df['Age']<65))"
   ]
  },
  {
   "cell_type": "code",
   "execution_count": 141,
   "id": "f0c9d3f6",
   "metadata": {},
   "outputs": [
    {
     "data": {
      "text/plain": [
       "59.97443712515977"
      ]
     },
     "execution_count": 141,
     "metadata": {},
     "output_type": "execute_result"
    }
   ],
   "source": [
    "(umemployed/total)*1000"
   ]
  },
  {
   "cell_type": "code",
   "execution_count": 142,
   "id": "7f7b09ef",
   "metadata": {},
   "outputs": [
    {
     "data": {
      "text/plain": [
       "59.58116212761774"
      ]
     },
     "execution_count": 142,
     "metadata": {},
     "output_type": "execute_result"
    }
   ],
   "source": [
    "comm=df[df['Occupation']=='University Student']\n",
    "(len(comm)/total)*1000"
   ]
  }
 ],
 "metadata": {
  "kernelspec": {
   "display_name": "Python 3 (ipykernel)",
   "language": "python",
   "name": "python3"
  },
  "language_info": {
   "codemirror_mode": {
    "name": "ipython",
    "version": 3
   },
   "file_extension": ".py",
   "mimetype": "text/x-python",
   "name": "python",
   "nbconvert_exporter": "python",
   "pygments_lexer": "ipython3",
   "version": "3.10.2"
  }
 },
 "nbformat": 4,
 "nbformat_minor": 5
}
